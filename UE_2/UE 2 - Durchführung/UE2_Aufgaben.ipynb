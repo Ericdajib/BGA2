{
 "cells": [
  {
   "cell_type": "markdown",
   "metadata": {
    "pycharm": {
     "name": "#%% md\n"
    }
   },
   "source": [
    "# Übung 2 Detektion von Verkehrsschildern"
   ]
  },
  {
   "cell_type": "markdown",
   "metadata": {
    "pycharm": {
     "name": "#%% md\n"
    }
   },
   "source": [
    "**German Traffic Sign Detection Benchmark**\n",
    "\n",
    "Detallierte Beschreibung des Datensatzes siehe unter folgendem [Link](http://benchmark.ini.rub.de/?section=gtsdb&subsection=news)"
   ]
  },
  {
   "cell_type": "markdown",
   "metadata": {
    "pycharm": {
     "name": "#%% md\n"
    }
   },
   "source": [
    "## Imports"
   ]
  },
  {
   "cell_type": "code",
   "execution_count": 1,
   "metadata": {
    "pycharm": {
     "name": "#%%\n"
    }
   },
   "outputs": [],
   "source": [
    "import os\n",
    "\n",
    "import csv\n",
    "import wget\n",
    "import cv2\n",
    "import math\n",
    "import numpy as np\n",
    "import pandas as pd\n",
    "import matplotlib.pyplot as plt\n",
    "from IPython.display import display\n",
    "from ipywidgets import interact, interactive, fixed, interact_manual, widgets"
   ]
  },
  {
   "cell_type": "code",
   "execution_count": 2,
   "metadata": {
    "pycharm": {
     "name": "#%%\n"
    }
   },
   "outputs": [
    {
     "data": {
      "application/vnd.jupyter.widget-view+json": {
       "model_id": "4864ff1af0ce4aa68bc8bea1943929f3",
       "version_major": 2,
       "version_minor": 0
      },
      "text/plain": [
       "interactive(children=(IntSlider(value=10, description='x', max=30, min=-10), Output()), _dom_classes=('widget-…"
      ]
     },
     "metadata": {},
     "output_type": "display_data"
    }
   ],
   "source": [
    "# Testfunktion für ipywidgets: \n",
    "# Es soll ein Slider angezeigt werden. Der Wertebereich des Sliders\n",
    "# soll zwischen -10(min) und 30(max) liegen. \n",
    "# Entsprechend der Sliderposition soll ein Ergebniswert angezeigt werden.\n",
    "def f(x):\n",
    "    return 3 * x\n",
    "interact(f, x= 10);"
   ]
  },
  {
   "cell_type": "markdown",
   "metadata": {
    "pycharm": {
     "name": "#%% md\n"
    }
   },
   "source": [
    "## Globale Variablen\n",
    "\n",
    "Um hartcodierte Bezeichner/Namen in den Funktionen zu vermeiden, definiere an dieser Stelle alle Variablen, die global verwendet werden."
   ]
  },
  {
   "cell_type": "code",
   "execution_count": 3,
   "metadata": {
    "pycharm": {
     "name": "#%%\n"
    }
   },
   "outputs": [],
   "source": [
    "# Definiere den Pfad zum heruntergeladenen Datenordner\n",
    "DATA_PATH = \"../dataset/FullIJCNN2013\"\n",
    "\n",
    "# Prüfe, ob der Pfad existiert / korrekt eingegeben wurde\n",
    "assert os.path.exists(DATA_PATH), \"Der angegebene Pfad existriert nicht.\""
   ]
  },
  {
   "cell_type": "code",
   "execution_count": 4,
   "metadata": {
    "pycharm": {
     "name": "#%%\n"
    }
   },
   "outputs": [],
   "source": [
    "# Definiere den Pfad zur Datei gt.txt\n",
    "\"\"\"\n",
    "TIPP: arbeite zuerst mit der Datei new_gt.txt, um den Rechenaufwand bei dem Aufruf \n",
    "der Funktion calculate_hough_cirles() zu reduzieren.\n",
    "Diese Datei enthält wenige Bilder mit meist gut sichtbaren Verkehrszeichen \n",
    "\n",
    "\"\"\"\n",
    "### TO DO ###\n",
    "# Definiere den Pfad zur gt.txt-Datei / zur new_gt.txt-Datei\n",
    "\n",
    "GT_TXT_PATH = os.path.join(DATA_PATH, \"new_gt.txt\")\n",
    "assert os.path.exists(GT_TXT_PATH), \"Der angegebene Pfad existriert nicht.\""
   ]
  },
  {
   "cell_type": "code",
   "execution_count": 5,
   "metadata": {
    "pycharm": {
     "name": "#%%\n"
    }
   },
   "outputs": [],
   "source": [
    "# 把图标分成3类，prohibitory, mandatory, danger class\n",
    "\n",
    "# Prohibitory Class IDs\n",
    "PROHIBITORY_CLASS_IDs = [ 0, 1, 2, 3, 4, 5, 7, 8, 9, 10, 15, 16]\n",
    "\n",
    "# Mandatory Class IDs\n",
    "MANDATORY_CLASS_IDs = [ 33, 34, 35, 36, 37, 38, 39, 40 ]\n",
    "\n",
    "# Danger Class IDs\n",
    "DANGER_CLASS_IDs = [ 11, 18, 19, 20, 21, 22, 23, 24, 25, 26, 27, 28, 29, 30, 31 ]"
   ]
  },
  {
   "cell_type": "code",
   "execution_count": 6,
   "metadata": {
    "pycharm": {
     "name": "#%%\n"
    }
   },
   "outputs": [],
   "source": [
    "# MANDATORY-Dictionary \n",
    "MANDATORY_DICT = {}\n",
    "\n",
    "# MANDATORY images (filenames) list\n",
    "MANDATORY_IMG_LIST = []\n",
    "\n",
    "# MANDATORY filepaths\n",
    "MANDATORY_FILEPATHS = []"
   ]
  },
  {
   "cell_type": "markdown",
   "metadata": {
    "pycharm": {
     "name": "#%% md\n"
    }
   },
   "source": [
    "## Aufgabe 1 - Aussortieren bestimmter Verkehrsschilder"
   ]
  },
  {
   "cell_type": "code",
   "execution_count": 7,
   "metadata": {
    "pycharm": {
     "name": "#%%\n"
    }
   },
   "outputs": [],
   "source": [
    "def calculate_mandatory():\n",
    "\n",
    "    \"\"\"\n",
    "    Sortiert Verkehrszeichen nach der Kategorie „mandatory“ und speichert \n",
    "    die Ergebnisse in ein Dictionary.\n",
    "    Das Dictionary beinhaltet Dateinamen als Schlüssel und Listen von \n",
    "    Ground Thruth ROIs-Listen als Values.\n",
    "    \"\"\"\n",
    "    \n",
    "    # Setze prohibitory dictionary zurück\n",
    "    MANDATORY_DICT.clear()\n",
    "    \n",
    "    # Öffne die gt.txt-Datei / new_gt.txt-Datei\n",
    "    with open(GT_TXT_PATH, newline='') as csvfile:\n",
    "        gt_reader = csv.reader(csvfile, delimiter=';')\n",
    "        \n",
    "        # Bau eine Schleife, um die Daten Zeile für Zeile auszulesen \n",
    "        # und die entsprechende Liste der ROIs für die Datei zu füllen\n",
    "        for row in gt_reader:\n",
    "            ### TO DO ###\n",
    "            # alternative\n",
    "            # MANDATORY_DICT[row[0]] = [list(np.asarray(row[1:6],int))]\n",
    "            if int(row[5]) in MANDATORY_CLASS_IDs:\n",
    "                MANDATORY_DICT[row[0]] = [list(map(int, row[1:6]))]\n"
   ]
  },
  {
   "cell_type": "code",
   "execution_count": 8,
   "metadata": {
    "pycharm": {
     "name": "#%%\n"
    }
   },
   "outputs": [
    {
     "name": "stdout",
     "output_type": "stream",
     "text": [
      "{'00002.ppm': [[892, 476, 1006, 592, 39]], '00039.ppm': [[953, 252, 1015, 313, 35]], '00040.ppm': [[1040, 310, 1130, 400, 33]], '00066.ppm': [[569, 483, 618, 535, 38]], '00074.ppm': [[383, 527, 421, 569, 38]], '00081.ppm': [[233, 499, 249, 521, 38]], '00083.ppm': [[1071, 297, 1142, 368, 40]], '00115.ppm': [[330, 523, 351, 545, 38]], '00163.ppm': [[753, 473, 825, 545, 38]], '00214.ppm': [[1214, 241, 1288, 312, 33]], '00255.ppm': [[183, 503, 260, 581, 38]], '00262.ppm': [[894, 282, 953, 341, 36]], '00279.ppm': [[617, 484, 673, 540, 38]], '00304.ppm': [[504, 385, 553, 434, 35]], '00410.ppm': [[367, 615, 423, 671, 38]], '00411.ppm': [[185, 602, 238, 662, 38]], '00491.ppm': [[430, 568, 488, 637, 38]], '00501.ppm': [[107, 637, 216, 748, 38]], '00503.ppm': [[354, 579, 423, 650, 38]], '00556.ppm': [[1195, 499, 1253, 557, 38]], '00612.ppm': [[127, 521, 218, 612, 38]], '00624.ppm': [[387, 505, 434, 554, 38]], '00655.ppm': [[544, 520, 564, 540, 38]], '00679.ppm': [[720, 409, 759, 450, 33]], '00682.ppm': [[261, 486, 290, 515, 38]], '00685.ppm': [[615, 508, 659, 552, 38]], '00715.ppm': [[285, 346, 351, 412, 38]], '00733.ppm': [[442, 583, 490, 632, 38]], '00754.ppm': [[728, 593, 767, 632, 38]], '00755.ppm': [[563, 595, 593, 625, 38]], '00776.ppm': [[646, 604, 667, 625, 38]], '00784.ppm': [[31, 576, 152, 701, 38]], '00795.ppm': [[168, 612, 216, 663, 38]], '00808.ppm': [[272, 463, 315, 507, 38]], '00865.ppm': [[573, 490, 597, 514, 38]], '00885.ppm': [[202, 532, 281, 611, 38]], '00888.ppm': [[989, 315, 1043, 370, 35]]}\n"
     ]
    }
   ],
   "source": [
    "# Funktionsaufruf\n",
    "\"\"\"\n",
    "Erwartete Ausgabe:\n",
    "    {'00002.ppm': [[892, 476, 1006, 592, 39]],\n",
    "     '00039.ppm': [[953, 252, 1015, 313, 35]],\n",
    "     '00040.ppm': [[1040, 310, 1130, 400, 33]],\n",
    "     '00066.ppm': [[569, 483, 618, 535, 38]],\n",
    "     '00074.ppm': [[383, 527, 421, 569, 38]],\n",
    "     '00081.ppm': [[233, 499, 249, 521, 38]],\n",
    "     ...}\n",
    "\"\"\"\n",
    "calculate_mandatory()\n",
    "print(MANDATORY_DICT)"
   ]
  },
  {
   "cell_type": "code",
   "execution_count": 9,
   "metadata": {
    "pycharm": {
     "name": "#%%\n"
    }
   },
   "outputs": [
    {
     "name": "stdout",
     "output_type": "stream",
     "text": [
      "37\n",
      "['../dataset/FullIJCNN2013/00002.ppm', '../dataset/FullIJCNN2013/00039.ppm', '../dataset/FullIJCNN2013/00040.ppm', '../dataset/FullIJCNN2013/00066.ppm', '../dataset/FullIJCNN2013/00074.ppm', '../dataset/FullIJCNN2013/00081.ppm', '../dataset/FullIJCNN2013/00083.ppm', '../dataset/FullIJCNN2013/00115.ppm', '../dataset/FullIJCNN2013/00163.ppm', '../dataset/FullIJCNN2013/00214.ppm', '../dataset/FullIJCNN2013/00255.ppm', '../dataset/FullIJCNN2013/00262.ppm', '../dataset/FullIJCNN2013/00279.ppm', '../dataset/FullIJCNN2013/00304.ppm', '../dataset/FullIJCNN2013/00410.ppm', '../dataset/FullIJCNN2013/00411.ppm', '../dataset/FullIJCNN2013/00491.ppm', '../dataset/FullIJCNN2013/00501.ppm', '../dataset/FullIJCNN2013/00503.ppm', '../dataset/FullIJCNN2013/00556.ppm', '../dataset/FullIJCNN2013/00612.ppm', '../dataset/FullIJCNN2013/00624.ppm', '../dataset/FullIJCNN2013/00655.ppm', '../dataset/FullIJCNN2013/00679.ppm', '../dataset/FullIJCNN2013/00682.ppm', '../dataset/FullIJCNN2013/00685.ppm', '../dataset/FullIJCNN2013/00715.ppm', '../dataset/FullIJCNN2013/00733.ppm', '../dataset/FullIJCNN2013/00754.ppm', '../dataset/FullIJCNN2013/00755.ppm', '../dataset/FullIJCNN2013/00776.ppm', '../dataset/FullIJCNN2013/00784.ppm', '../dataset/FullIJCNN2013/00795.ppm', '../dataset/FullIJCNN2013/00808.ppm', '../dataset/FullIJCNN2013/00865.ppm', '../dataset/FullIJCNN2013/00885.ppm', '../dataset/FullIJCNN2013/00888.ppm']\n"
     ]
    }
   ],
   "source": [
    "# Ermittele die Dateienamen (ausgehend von DATA_PATH) alle Treffer in MANDATORY_DICT\n",
    "\n",
    "MANDATORY_FILEPATHS.clear()\n",
    "for key in MANDATORY_DICT.keys():\n",
    "    MANDATORY_FILEPATHS.append(os.path.join(DATA_PATH, key))\n",
    "\n",
    "print(len(MANDATORY_FILEPATHS))\n",
    "print(MANDATORY_FILEPATHS)"
   ]
  },
  {
   "cell_type": "code",
   "execution_count": 10,
   "metadata": {
    "pycharm": {
     "name": "#%%\n"
    }
   },
   "outputs": [],
   "source": [
    "def render_mandatory_rois():\n",
    "    \"\"\"\n",
    "    Malt die ROIs (Rechtecke) auf die entsprechenden Bilder und speichert \n",
    "    die in MANDATORY_IMG_LIST. \n",
    "    Hinweis:\n",
    "    Die ROIs und Bildernamen können aus MANDATORY_DICT ermittelt werden\n",
    "    \"\"\"\n",
    "    # Setze die globale variable zurück\n",
    "    MANDATORY_IMG_LIST.clear()\n",
    "    \n",
    "    for key in MANDATORY_DICT.keys():\n",
    "        file_path = os.path.join(DATA_PATH, key)\n",
    "        img = plt.imread(file_path)\n",
    "        ### TO DO ###\n",
    "        for idx in range(len(MANDATORY_DICT[key])): # warum?\n",
    "            # Berechne Koordinaten des Rechtecks\n",
    "            point1 = (MANDATORY_DICT[key][0][0], MANDATORY_DICT[key][0][1])\n",
    "            point2 = (MANDATORY_DICT[key][0][2], MANDATORY_DICT[key][0][3])\n",
    "\n",
    "            # Zeichne das Rechteck\n",
    "            img = cv2.rectangle(img, point1, point2, color= (0, 0, 255) ,thickness = 2)\n",
    "            org = (MANDATORY_DICT[key][0][2] + 10,MANDATORY_DICT[key][0][1] + 20)\n",
    "            # Speichere Verkehrszeichennamen als text\n",
    "            text = \"ID: \" + str(MANDATORY_DICT[key][0][4])\n",
    "            img = cv2.putText(img, org = org, text = text, fontFace = cv2.FONT_HERSHEY_SIMPLEX, fontScale= 0.7, color = (255, 0, 0), thickness = 2)\n",
    "\n",
    "        MANDATORY_IMG_LIST.append(img)"
   ]
  },
  {
   "cell_type": "code",
   "execution_count": 11,
   "metadata": {
    "pycharm": {
     "name": "#%%\n"
    }
   },
   "outputs": [
    {
     "name": "stdout",
     "output_type": "stream",
     "text": [
      "37\n"
     ]
    }
   ],
   "source": [
    "# Mandatory Image list abrufen\n",
    "render_mandatory_rois()\n",
    "print(len(MANDATORY_IMG_LIST))"
   ]
  },
  {
   "cell_type": "code",
   "execution_count": 12,
   "metadata": {
    "pycharm": {
     "name": "#%%\n"
    }
   },
   "outputs": [],
   "source": [
    "def show_img(idx):\n",
    "    plt.figure(figsize=(16,8))\n",
    "    plt.imshow(MANDATORY_IMG_LIST[idx])\n",
    "    plt.show()"
   ]
  },
  {
   "cell_type": "code",
   "execution_count": 13,
   "metadata": {
    "pycharm": {
     "is_executing": true,
     "name": "#%%\n"
    }
   },
   "outputs": [
    {
     "data": {
      "application/vnd.jupyter.widget-view+json": {
       "model_id": "2b68aa7585cf46c4a559f44e0cb83d95",
       "version_major": 2,
       "version_minor": 0
      },
      "text/plain": [
       "interactive(children=(IntSlider(value=0, description='idx', max=36), Output()), _dom_classes=('widget-interact…"
      ]
     },
     "metadata": {},
     "output_type": "display_data"
    }
   ],
   "source": [
    "interact(show_img, idx=widgets.IntSlider(min=0,max=len(MANDATORY_IMG_LIST)-1, step=1, value=0));"
   ]
  },
  {
   "cell_type": "markdown",
   "metadata": {
    "pycharm": {
     "name": "#%% md\n"
    }
   },
   "source": [
    "## Aufgabe 2 – Formbasierter Ansatz\n",
    "\n",
    "\n",
    "Hier kannst du die Links abrufen, die zum Implementieren dieser Funktion nützlich sein können:\n",
    "\n",
    "- <https://docs.opencv.org/4.x/da/d53/tutorial_py_houghcircles.html>\n",
    "- <https://docs.opencv.org/4.x/df/d9d/tutorial_py_colorspaces.html>\n",
    "- <https://docs.opencv.org/4.x/d4/d13/tutorial_py_filtering.html>\n",
    "\n",
    "Übersicht der Tutorials: <https://docs.opencv.org/4.x/d6/d00/tutorial_py_root.html>"
   ]
  },
  {
   "cell_type": "code",
   "execution_count": 14,
   "metadata": {
    "pycharm": {
     "name": "#%%\n"
    }
   },
   "outputs": [],
   "source": [
    "def calculate_hough_cirles(filepaths, d_p, min_dist, param1, param2, min_radius, max_radius):\n",
    "    \"\"\"\n",
    "     Berechnet Hough Circles unter Berücksichtigung der Form der Verkehrszeichen\n",
    "    \"\"\"\n",
    "    \n",
    "    # Liste fuer die Speicherung des Ergebnis\n",
    "    result = []\n",
    "    predicted_dict = {}\n",
    "    \n",
    "    for filepath_ in filepaths:\n",
    "        # Lade das Bild in\n",
    "        color_img = cv2.imread(filepath_, cv2.IMREAD_COLOR)\n",
    "        ### TO DO ###\n",
    "        \n",
    "        # Konvertiere das BGR-Bild in Gray.\n",
    "        # https://docs.opencv.org/4.x/df/d9d/tutorial_py_colorspaces.html\n",
    "        img_gray = cv2.cvtColor(color_img, cv2.COLOR_BGR2GRAY)\n",
    "\n",
    "        # Reduziere das Rauschen \n",
    "        # https://docs.opencv.org/4.x/d4/d13/tutorial_py_filtering.html --> Kapitel \"Image bluring\"\n",
    "\n",
    "        img_blurred = cv2.blur(img_gray,(5,5))\n",
    "        \n",
    "        # Ermittele die Kreisen auf dem Bild \n",
    "        # https://docs.opencv.org/4.x/da/d53/tutorial_py_houghcircles.html\n",
    "        circles = cv2.HoughCircles(image = img_blurred,method = cv2.HOUGH_GRADIENT, dp = d_p, minDist = min_dist,\n",
    "                            param1 = param1, param2 = param2, minRadius = min_radius, maxRadius = max_radius)\n",
    "        '''\n",
    "        image: 霍夫变换的输入图像应为8位的灰度图像\n",
    "        method: 检测方法，上述代码使用梯度法检测\n",
    "        dp: 累加面分辨率（大小） = 原始图像分辨率（大小） × 1/dp\n",
    "        minDist: 两个圆心之间的最小距离。若两圆心距离 < minDist，则认为是同一个圆\n",
    "        param1: Canny 边缘检测的高阈值， 默认100\n",
    "        param2： 累加平面某点是否是圆心的判定阈值。它越大，能通过检测的圆就更接近完美的圆形，默认为100\n",
    "        minRadius： 圆半径的最小值。默认为 0\n",
    "        maxRadius： 圆半径的最大值，默认为 0\n",
    "\n",
    "        输出为描述圆的(1,n,3)数组，第三维度每行有三个数[a,b,r],用来描述圆心位置的(a, b)和圆半径r\n",
    "        如果出现error: (-215:Assertion failed)有可能是图像没有正确读取\n",
    "        '''\n",
    "\n",
    "        # Kreise auf das Bild malen\n",
    "        if circles is not None: \n",
    "            # Kreise-Paramater in interger umwandeln\n",
    "            # circles = np.uint16(np.around(circles))\n",
    "            circles = np.asarray(np.around(circles),int) # to avoid runtimeWarning\n",
    "            \n",
    "            # Kreise auf das Bild malen\n",
    "            for point in circles[0, :]: \n",
    "                a, b, r = point\n",
    "                ''' point = [a, b, r]，其中圆心是(a,b),半径是r '''\n",
    "\n",
    "                cv2.circle(color_img,(a, b),r,(0,255,0),2) # (B,G,R)\n",
    "\n",
    "                cv2.circle(color_img,(a, b),2,(0,0,255),3) # 可选， 画圆心，半径为2像素，线宽3像素\n",
    "\n",
    "                # Ermittle Koordinaten der Rechtecke, die für die Evaluation benutzt werden\n",
    "                # 用于求出Aufgabe3中的IOU\n",
    "                point1 = (a-r, b-r)\n",
    "                point2 = (a+r, b+r)\n",
    "\n",
    "                # OPTIONAL: Rechtecke auf das Bild malen\n",
    "                cv2.rectangle(color_img, point1, point2, color= (0, 0, 255) ,thickness = 2)\n",
    "                if os.path.split(filepath_)[-1] in predicted_dict:\n",
    "                    if a==0 and b==0 and r==0:\n",
    "                        continue\n",
    "                    predicted_dict[os.path.split(filepath_)[-1]].append([point1[0], point1[1], point2[0], point2[1]])\n",
    "                else: \n",
    "                    predicted_dict[os.path.split(filepath_)[-1]] = []\n",
    "                    if a==0 and b==0 and r==0:\n",
    "                        continue\n",
    "                    predicted_dict[os.path.split(filepath_)[-1]].append([point1[0], point1[1], point2[0], point2[1]])\n",
    "        else:\n",
    "            predicted_dict[os.path.split(filepath_)[-1]] = []                \n",
    "        result.append(color_img)\n",
    "        \n",
    "    return result, predicted_dict"
   ]
  },
  {
   "cell_type": "code",
   "execution_count": 15,
   "metadata": {
    "collapsed": false,
    "pycharm": {
     "name": "#%%\n"
    }
   },
   "outputs": [],
   "source": [
    "pred_imgs_form, predicted_rect_rois = calculate_hough_cirles(MANDATORY_FILEPATHS, \n",
    "                                                  d_p= 1,\n",
    "                                                  min_dist = 120 ,\n",
    "                                                  param1= 100,\n",
    "                                                  param2= 44,\n",
    "                                                  min_radius= 5,\n",
    "                                                  max_radius= 56)\n",
    "# print(predicted_rect_rois)"
   ]
  },
  {
   "cell_type": "code",
   "execution_count": 16,
   "metadata": {
    "collapsed": false,
    "pycharm": {
     "name": "#%%\n"
    }
   },
   "outputs": [],
   "source": [
    "def show_img_form(idx):\n",
    "    plt.figure(figsize=(16,8))\n",
    "    plt.imshow(cv2.cvtColor(pred_imgs_form[idx], cv2.COLOR_BGR2RGB))\n",
    "    plt.show()"
   ]
  },
  {
   "cell_type": "code",
   "execution_count": 17,
   "metadata": {
    "collapsed": false,
    "pycharm": {
     "name": "#%%\n"
    }
   },
   "outputs": [
    {
     "data": {
      "application/vnd.jupyter.widget-view+json": {
       "model_id": "4dc0a8e652be43a29f71c2184851fa3d",
       "version_major": 2,
       "version_minor": 0
      },
      "text/plain": [
       "interactive(children=(IntSlider(value=0, description='idx', max=36), Output()), _dom_classes=('widget-interact…"
      ]
     },
     "metadata": {},
     "output_type": "display_data"
    }
   ],
   "source": [
    "interact(show_img_form, idx=widgets.IntSlider(min=0, max=len(pred_imgs_form)-1, step=1, value=0));"
   ]
  },
  {
   "cell_type": "markdown",
   "metadata": {
    "collapsed": false,
    "pycharm": {
     "name": "#%% md\n"
    }
   },
   "source": [
    "## Aufgabe 3 – Optimierung und Evaluation des formbasierten Ansatzes"
   ]
  },
  {
   "cell_type": "code",
   "execution_count": 18,
   "metadata": {
    "collapsed": false,
    "pycharm": {
     "name": "#%%\n"
    }
   },
   "outputs": [],
   "source": [
    "def jaccard_similarity(pred, gr_truth):\n",
    "    '''\n",
    "    Berechnet den Jaccard-Koeffizienten für zwei Rechtecke: den vorhergesagen (pred) und den ground_truth (gr_truth)\n",
    "    '''\n",
    "\n",
    "    # Ermittle die (x, y)-Koordinaten der Schnittmenge beider Rechtecke\n",
    "    ''' 第一个参数是通过霍夫变换输出的预测值， 第二个参数是gt_txt里的真实值，取最大值'''\n",
    "    x_i1 = max(pred[0], gr_truth[0])\n",
    "    y_i1 = max(pred[1], gr_truth[1])\n",
    "    x_i2 = min(pred[2], gr_truth[2])\n",
    "    y_i2 = min(pred[3], gr_truth[3])\n",
    "\n",
    "    inter_area = max(0, x_i2 - x_i1 + 1) * max(0, y_i2 - y_i1 + 1)\n",
    "\n",
    "    pred_area = (pred[2] - pred[0] + 1) * (pred[3] - pred[1] + 1)\n",
    "    gr_truth_area = (gr_truth[2] - gr_truth[0] + 1) * (gr_truth[3] - gr_truth[1] + 1)\n",
    "    \n",
    "    iou = inter_area / float(pred_area + gr_truth_area - inter_area)\n",
    "    '''\n",
    "    IOU(Intersection over Union) = Area of overlap / Area of Union\n",
    "    交并比 (IOU)，又称雅卡尔指数 (Jaccard index)\n",
    "    '''\n",
    "    \n",
    "    # Gebe den \"Intersection Over Union\"-Wert zurück\n",
    "    return iou"
   ]
  },
  {
   "cell_type": "code",
   "execution_count": 19,
   "metadata": {
    "collapsed": false,
    "pycharm": {
     "name": "#%%\n"
    }
   },
   "outputs": [],
   "source": [
    "def evaluate_detection(ground_truth_dict, predicted_dict, similarity_threshold=0.6):    \n",
    "    '''\n",
    "    Evaluiert implementierte Ansätze anhand des Jaccard-Ähnlichkeitsmaßes\n",
    "    Referenz für die Berechnung: Houben et. al. Kapitel IV Evaluation Procedure\n",
    "    '''\n",
    "\n",
    "    # True Positives\n",
    "    tp = 0\n",
    "    # False Positives\n",
    "    fp = 0\n",
    "    # False Negatives\n",
    "    fn = 0\n",
    "    \n",
    "    for key in ground_truth_dict.keys():\n",
    "        # Liste mit allen ROIs eines Dateinamens \n",
    "        rois_gt_lists = ground_truth_dict[key] # 一个图像上所有的真实roi\n",
    "        \n",
    "        # Berechne Jaccard-Ähnlichkeitsmaß von detektierten Rechtecken, die aus den Kreiskoordinaten ermittelt wurden\n",
    "        rois_pred_lists = predicted_dict[key] # 同一个图像上的所有预测的roi\n",
    "        \n",
    "        if len(rois_pred_lists) > 0: # 如果有预测结果\n",
    "            for rois_gt_list in rois_gt_lists: # 一个真实roi和一波预测roi对比\n",
    "                iou = [jaccard_similarity(rois_pred, rois_gt_list) for rois_pred in rois_pred_lists] # 包含所有预测roi和一个真实roi的iou列表\n",
    "\n",
    "                # Liste mit den Werten, die kleiner als similarity_threshold sind\n",
    "                iou_lt_threshold = [value for value in iou if value < similarity_threshold] # 小于阈值的iou的列表\n",
    "\n",
    "                fp = fp + len(iou_lt_threshold) # 小于阈值的全算作fp\n",
    "                \n",
    "                # Liste mit den Werten, die größer / gleich similarity_threshold sind\n",
    "                iou_gt_threshold = [value for value in iou if value >= similarity_threshold] # 大于等于阈值的iou的列表，有可能是空列表，有可能会有很多个，但是都只能算一个tp\n",
    "\n",
    "                # print(\"ious of picture {} are: {} \".format(key,iou))\n",
    "                # print(\"ious of picture {} which less than threshold are: {} \".format(key, iou_lt_threshold))\n",
    "                # print(\"ious of picture {} which greater than threshold are: {} \\n\".format(key, iou_gt_threshold))\n",
    "\n",
    "\n",
    "                if len(iou_gt_threshold) > 0 : # 如果有iou大于阈值，即被认为是tp的话\n",
    "                    tp = tp + 1\n",
    "                else:\n",
    "                    fn = fn + 1 # 这个真实的roi被算作fn，它属于正样本\n",
    "\n",
    "        else:\n",
    "            fn = fn + len(rois_gt_lists) # 没有预测结果的话就加上这个图的所有正样本，他们属于fn\n",
    "            # print(f\"in picture {key} no sign was predicted \\n\")\n",
    "\n",
    "    return tp, fp, fn            "
   ]
  },
  {
   "cell_type": "code",
   "execution_count": 20,
   "metadata": {
    "collapsed": false,
    "pycharm": {
     "name": "#%%\n"
    }
   },
   "outputs": [],
   "source": [
    "def calculate_precision_recall(tp, fp, fn):\n",
    "    '''\n",
    "    Berechnet Precision- und Recall-Werte\n",
    "    '''\n",
    "    \n",
    "    # precision = math.NaN\n",
    "    precision = float('nan')\n",
    "    if tp + fp != 0:\n",
    "        precision = tp / (tp + fp)   \n",
    "    \n",
    "    # recall = math.NaN\n",
    "    recall = float('nan')\n",
    "    if tp + fn != 0:\n",
    "        recall = tp / (tp + fn)\n",
    "        \n",
    "    return precision, recall"
   ]
  },
  {
   "cell_type": "code",
   "execution_count": 21,
   "metadata": {
    "collapsed": false,
    "pycharm": {
     "name": "#%%\n"
    }
   },
   "outputs": [],
   "source": [
    "# similarity_threshold entspricht dem Schwellenwert im Paper von Houben et. al.\n",
    "# tp_form, fp_form, fn_form = evaluate_detection(MANDATORY_DICT, predicted_rect_rois, similarity_threshold=0.6)"
   ]
  },
  {
   "cell_type": "code",
   "execution_count": 24,
   "metadata": {
    "collapsed": false,
    "pycharm": {
     "name": "#%%\n"
    }
   },
   "outputs": [
    {
     "data": {
      "image/png": "[encoded data removed]",
      "text/plain": [
       "<Figure size 432x288 with 1 Axes>"
      ]
     },
     "metadata": {
      "needs_background": "light"
     },
     "output_type": "display_data"
    }
   ],
   "source": [
    "# Precision-Recall-Plot\n",
    "### TO DO ###\n",
    "# reference: https://blog.csdn.net/catscanner/article/details/111517938\n",
    "\n",
    "precision_list = []\n",
    "recall_list = []\n",
    "\n",
    "for value in range(100,40,-2):\n",
    "    pred_imgs_form, predicted_rect_rois = calculate_hough_cirles(MANDATORY_FILEPATHS, \n",
    "                                                  d_p= 1,\n",
    "                                                  min_dist = 120 ,\n",
    "                                                  param1= 100,\n",
    "                                                  param2= value,\n",
    "                                                  min_radius= 5,\n",
    "                                                  max_radius= 56)\n",
    "    \n",
    "    tp_form, fp_form, fn_form = evaluate_detection(MANDATORY_DICT, predicted_rect_rois, similarity_threshold= 0.6)\n",
    "    precision, recall = calculate_precision_recall(tp_form, fp_form, fn_form)\n",
    "    precision_list.append(precision)\n",
    "    recall_list.append(recall)\n",
    "\n",
    "plt.figure()\n",
    "plt.plot(recall_list, precision_list, marker = '.', label='Hough Circle')\n",
    "plt.title(\"PR-curve when param2 as threshold when param1 = 100, similarity_threshold=0.6\")\n",
    "plt.xlabel(\"recall\")\n",
    "plt.ylabel(\"precision\")\n",
    "plt.legend()\n",
    "plt.show()"
   ]
  }
 ],
 "metadata": {
  "interpreter": {
   "hash": "9f8056f0024b9c33bf88f6b30261f392fae45831253711791418fb2e5b6bf693"
  },
  "kernelspec": {
   "display_name": "Python 3.6.13 ('BGA2_macos')",
   "language": "python",
   "name": "python3"
  },
  "language_info": {
   "codemirror_mode": {
    "name": "ipython",
    "version": 3
   },
   "file_extension": ".py",
   "mimetype": "text/x-python",
   "name": "python",
   "nbconvert_exporter": "python",
   "pygments_lexer": "ipython3",
   "version": "3.6.13"
  }
 },
 "nbformat": 4,
 "nbformat_minor": 4
}
