{
 "cells": [
  {
   "cell_type": "markdown",
   "metadata": {
    "pycharm": {
     "name": "#%% md\n"
    }
   },
   "source": [
    "# Uebung 3 Merkmalsextraktion, binaere Klassifikation"
   ]
  },
  {
   "cell_type": "markdown",
   "metadata": {
    "pycharm": {
     "name": "#%% md\n"
    }
   },
   "source": [
    "**German Traffic Sign Recognition Benchmark**\n",
    "\n",
    "Detallierte Beschreibung des Datensatzes siehe unter folgendem [Link](http://benchmark.ini.rub.de/?section=gtsrb&subsection=dataset#Annotationformat)"
   ]
  },
  {
   "cell_type": "markdown",
   "metadata": {
    "pycharm": {
     "name": "#%% md\n"
    }
   },
   "source": [
    "## Imports"
   ]
  },
  {
   "cell_type": "code",
   "execution_count": 210,
   "metadata": {
    "pycharm": {
     "name": "#%%\n"
    }
   },
   "outputs": [],
   "source": [
    "import os\n",
    "import cv2\n",
    "import numpy as np\n",
    "import pandas as pd\n",
    "import matplotlib.pyplot as plt\n",
    "\n",
    "from sklearn import decomposition\n",
    "from sklearn.decomposition import PCA\n",
    "from sklearn.model_selection import learning_curve, train_test_split, ShuffleSplit\n",
    "from sklearn.metrics import confusion_matrix, f1_score, accuracy_score\n",
    "from sklearn.preprocessing import StandardScaler\n",
    "from sklearn.naive_bayes import GaussianNB\n",
    "from sklearn.svm import SVC\n",
    "\n",
    "from ipywidgets import interact, interactive, fixed, interact_manual, widgets\n",
    "from skimage import io\n",
    "from skimage.transform import resize\n",
    "from mpl_toolkits.mplot3d import Axes3D"
   ]
  },
  {
   "cell_type": "markdown",
   "metadata": {
    "pycharm": {
     "name": "#%% md\n"
    }
   },
   "source": [
    "## Globale Variablen\n",
    "Um hartcodierte Bezeichner/Namen in den Funktionen zu vermeiden, definiere an dieser Stelle alle Variablen, die global verwendet werden."
   ]
  },
  {
   "cell_type": "code",
   "execution_count": 211,
   "metadata": {
    "pycharm": {
     "name": "#%%\n"
    }
   },
   "outputs": [],
   "source": [
    "# Prohibitory Class IDs \n",
    "PROHIBITORY_CLASS_IDs = [ 0, 1, 2, 3, 4, 5, 7, 8, 9, 10, 15, 16]\n",
    "\n",
    "# Mandatory Class IDs\n",
    "MANDATORY_CLASS_IDs = [ 33, 34, 35, 36, 37, 38, 39, 40 ]\n",
    "\n",
    "# Danger Class IDs\n",
    "DANGER_CLASS_IDs = [ 11, 18, 19, 20, 21, 22, 23, 24, 25, 26, 27, 28, 29, 30, 31 ]"
   ]
  },
  {
   "cell_type": "code",
   "execution_count": 212,
   "metadata": {
    "pycharm": {
     "name": "#%%\n"
    }
   },
   "outputs": [
    {
     "name": "stdout",
     "output_type": "stream",
     "text": [
      "[10, 36]\n"
     ]
    }
   ],
   "source": [
    "# TODO: Festlegen, welche Klassen betrachtet werden\n",
    "\n",
    "CONSIDERED_CLASS_IDs = [PROHIBITORY_CLASS_IDs[9], MANDATORY_CLASS_IDs[3]]\n",
    "print(CONSIDERED_CLASS_IDs)"
   ]
  },
  {
   "cell_type": "code",
   "execution_count": 213,
   "metadata": {
    "pycharm": {
     "name": "#%%\n"
    }
   },
   "outputs": [],
   "source": [
    "# TODO: Pfade entsprechend eurer Datenstruktu anpassen"
   ]
  },
  {
   "cell_type": "code",
   "execution_count": 214,
   "metadata": {
    "pycharm": {
     "name": "#%%\n"
    }
   },
   "outputs": [],
   "source": [
    "# Definiere den Pfad zum GTSDB-Datenordner (Detektionsdatensatz)\n",
    "PATH_TO_GTSDB_DATA_FOLDER = './dataset/FullIJCNN2013'\n",
    "# Prüfe, ob der Pfad existiert / korrekt eingegeben wurde\n",
    "assert os.path.exists(PATH_TO_GTSDB_DATA_FOLDER), \"Der angegebene Pfad existriert nicht.\""
   ]
  },
  {
   "cell_type": "code",
   "execution_count": 215,
   "metadata": {
    "pycharm": {
     "name": "#%%\n"
    }
   },
   "outputs": [],
   "source": [
    "# Definiere den Pfad zum GTSRB-Datenordner mit den den ppm-Dateien\n",
    "DATA_PATH_FINAL_TRAINING_IMAGES = './dataset/GTSRB/Final_Training/Images'\n",
    "\n",
    "# Prüfe, ob der Pfad existiert / korrekt eingegeben wurde\n",
    "assert os.path.exists(DATA_PATH_FINAL_TRAINING_IMAGES), \"Der angegebene Pfad existriert nicht.\""
   ]
  },
  {
   "cell_type": "code",
   "execution_count": 216,
   "metadata": {
    "pycharm": {
     "name": "#%%\n"
    }
   },
   "outputs": [],
   "source": [
    "# Definiere den Pfad zum GTSRB-Datenordner mit HOG Features\n",
    "DATA_PATH_HOG_01 = './dataset/GTSRB/Final_Training/HOG/HOG_01'\n",
    "\n",
    "# Prüfe, ob der Pfad existiert / korrekt eingegeben wurde\n",
    "assert os.path.exists(DATA_PATH_HOG_01), \"Der angegebene Pfad existriert nicht.\""
   ]
  },
  {
   "cell_type": "markdown",
   "metadata": {
    "pycharm": {
     "name": "#%% md\n"
    }
   },
   "source": [
    "## Visualisierung der Klassen"
   ]
  },
  {
   "cell_type": "code",
   "execution_count": 217,
   "metadata": {
    "pycharm": {
     "name": "#%%\n"
    }
   },
   "outputs": [],
   "source": [
    "# Wiederverwendung des Codes aus UE 1\n",
    "def one_image_per_class(path_to_data_folder):\n",
    "    \n",
    "    \"\"\"\n",
    "    Gibt ein Bild pro Klasse aus (erste Variante)\n",
    "    Argumente: Pfad zum Datenordner\n",
    "    NOTE: 从data folder中提取所有的sub folder，从每一个subfolder中提取第二章图片，并把图片的路径保存到img paths.\n",
    "    \"\"\"\n",
    "    \n",
    "    # Definiere eine leere Liste für Bildpfade\n",
    "    img_paths = []\n",
    "    \n",
    "    # Generiere eine Liste mit den Namen von Unterordnern\n",
    "    subfolders_paths = [os.path.join(path_to_data_folder, subfolder_name) \n",
    "                        for subfolder_name in os.listdir(path_to_data_folder)\n",
    "                        if os.path.isdir(os.path.join(path_to_data_folder, subfolder_name))]\n",
    "    for path in subfolders_paths:\n",
    "        assert os.path.exists(path), \"Der angegebene Pfad existriert nicht.\"\n",
    "        # Gebe z.B. das erste Bild aus\n",
    "        img_path = os.path.join(path, '00001.ppm')\n",
    "        assert os.path.exists(img_path), \"Der angegebene Pfad existriert nicht.\"\n",
    "        img_paths.append(img_path)\n",
    "        \n",
    "    return img_paths"
   ]
  },
  {
   "cell_type": "code",
   "execution_count": 218,
   "metadata": {
    "pycharm": {
     "name": "#%%\n"
    }
   },
   "outputs": [],
   "source": [
    "def show_img_tr_sign(idx):\n",
    "    print('ClassID {}'.format(idx))\n",
    "    plt.figure(figsize=(6,6))\n",
    "    img = plt.imread(img_paths_43[idx])\n",
    "    plt.imshow(img)\n",
    "    plt.show()"
   ]
  },
  {
   "cell_type": "code",
   "execution_count": 219,
   "metadata": {
    "pycharm": {
     "name": "#%%\n"
    }
   },
   "outputs": [],
   "source": [
    "img_paths_43 = one_image_per_class(PATH_TO_GTSDB_DATA_FOLDER)"
   ]
  },
  {
   "cell_type": "code",
   "execution_count": 220,
   "metadata": {
    "pycharm": {
     "name": "#%%\n"
    }
   },
   "outputs": [
    {
     "data": {
      "application/vnd.jupyter.widget-view+json": {
       "model_id": "76cc7f90bc174da39d90df6d1b9c3c17",
       "version_major": 2,
       "version_minor": 0
      },
      "text/plain": [
       "interactive(children=(IntSlider(value=0, description='idx', max=42), Output()), _dom_classes=('widget-interact…"
      ]
     },
     "metadata": {},
     "output_type": "display_data"
    }
   ],
   "source": [
    "interact(show_img_tr_sign, idx=widgets.IntSlider(min=0,max=len(img_paths_43)-1,step=1, value=0));"
   ]
  },
  {
   "cell_type": "markdown",
   "metadata": {
    "pycharm": {
     "name": "#%% md\n"
    }
   },
   "source": [
    "## Einlesen der Daten und Bilden der train- und test-Datensaetze"
   ]
  },
  {
   "cell_type": "code",
   "execution_count": 221,
   "metadata": {
    "pycharm": {
     "name": "#%%\n"
    }
   },
   "outputs": [],
   "source": [
    "def build_train_test_datasets(CONSIDERED_CLASS_IDs, path_to_data_folder, suffix='txt'):\n",
    "    '''\n",
    "    Liest die Daten aus dem vorgegebenen Datenordner ein und teilt sie in train- und test-Datensaetze auf\n",
    "    从给定的数据文件夹中读取数据，并将其分割成训练和测试数据集。\n",
    "    '''\n",
    "    if suffix != 'txt' and suffix != 'ppm':\n",
    "        print (\"Abbruch der Funktion: Suffix nicht zutreffend. gueltige Suffixes sind txt oder ppm\")\n",
    "        return \n",
    "    \n",
    "    data = []\n",
    "    ppm_data = []\n",
    "    data_labels = []\n",
    "    subfolders_list = os.listdir(path_to_data_folder)\n",
    "    considered_subfolders = [subfolder for subfolder in subfolders_list if int(subfolder) in CONSIDERED_CLASS_IDs]\n",
    "    for subfolder in considered_subfolders:\n",
    "        path_to_considered_datafolder = os.path.join(path_to_data_folder, subfolder)\n",
    "        for filepath in os.listdir(path_to_considered_datafolder):\n",
    "            # Final Training HOG Features of GTSRB-Images\n",
    "            if filepath.endswith(suffix):\n",
    "                full_filepath = os.path.join(path_to_data_folder, subfolder, filepath)\n",
    "                assert os.path.exists(full_filepath), \"Der angegebene Pfad existriert nicht.\"\n",
    "                if suffix == 'txt':\n",
    "                    text_file = open(full_filepath, \"r\")\n",
    "                    txt_lines = text_file.read().split('\\n')\n",
    "                    txt_lines = [float(x) for x in txt_lines]\n",
    "                    data.append(txt_lines)\n",
    "                    data_labels.append(int(subfolder))\n",
    "                else:\n",
    "                    ppm_file = io.imread(full_filepath)\n",
    "                    ppm_file_resized = resize(ppm_file, (40, 40), anti_aliasing=True)\n",
    "                    data.append(ppm_file_resized)\n",
    "                    data_labels.append(int(subfolder))\n",
    "\n",
    "    data = np.array(data, dtype=np.float32)\n",
    "    data_labels = np.array(data_labels)\n",
    "    \n",
    "    X_train, X_test, y_tain, y_test = train_test_split(data,data_labels, test_size=0.25, random_state=42)\n",
    "        \n",
    "    \n",
    "    return X_train, X_test, y_tain, y_test, data, data_labels"
   ]
  },
  {
   "cell_type": "code",
   "execution_count": 222,
   "metadata": {
    "pycharm": {
     "name": "#%%\n"
    }
   },
   "outputs": [],
   "source": [
    "# Einlesen der txt-Dateien aus dem GTSRB-Final-Training-HOG1-Datenordner\n",
    "X_train_hog_01, X_test_hog_01, y_train_hog_01, y_test_hog_01, txt_data_hog_01, data_labels_hog_01 = build_train_test_datasets(CONSIDERED_CLASS_IDs, DATA_PATH_HOG_01, suffix='txt')"
   ]
  },
  {
   "cell_type": "code",
   "execution_count": 223,
   "metadata": {
    "pycharm": {
     "name": "#%%\n"
    }
   },
   "outputs": [],
   "source": [
    "# Einlesen der ppm-Dateien aus dem GTSRB-Final-Training-Images-Datenordner\n",
    "X_train_img, X_test_img, y_train_img, y_test_img, img_data, img_data_labels = build_train_test_datasets(CONSIDERED_CLASS_IDs, DATA_PATH_FINAL_TRAINING_IMAGES, suffix='ppm')"
   ]
  },
  {
   "cell_type": "code",
   "execution_count": 224,
   "metadata": {
    "pycharm": {
     "name": "#%%\n"
    }
   },
   "outputs": [
    {
     "name": "stdout",
     "output_type": "stream",
     "text": [
      "(2400, 1568)\n",
      "(2400,)\n"
     ]
    }
   ],
   "source": [
    "print(txt_data_hog_01.shape)\n",
    "print(data_labels_hog_01.shape)"
   ]
  },
  {
   "cell_type": "code",
   "execution_count": 225,
   "metadata": {
    "pycharm": {
     "name": "#%%\n"
    }
   },
   "outputs": [
    {
     "name": "stdout",
     "output_type": "stream",
     "text": [
      "Shape of \n",
      "X_train_img: (1800, 40, 40, 3) \n",
      "X_test_img: (600, 40, 40, 3) \n",
      "y_train_img: (1800,) \n",
      "y_test_img: (600,)\n"
     ]
    }
   ],
   "source": [
    "print('Shape of \\nX_train_img: {} \\nX_test_img: {} \\ny_train_img: {} \\ny_test_img: {}'.format(X_train_img.shape, X_test_img.shape, y_train_img.shape, y_test_img.shape))"
   ]
  },
  {
   "cell_type": "code",
   "execution_count": 226,
   "metadata": {
    "pycharm": {
     "name": "#%%\n"
    }
   },
   "outputs": [
    {
     "data": {
      "image/png": "[encoded data removed]",
      "text/plain": [
       "<Figure size 432x288 with 1 Axes>"
      ]
     },
     "metadata": {
      "needs_background": "light"
     },
     "output_type": "display_data"
    }
   ],
   "source": [
    "X_train_img.shape\n",
    "io.imshow(X_train_img[9])\n",
    "io.show()"
   ]
  },
  {
   "cell_type": "markdown",
   "metadata": {
    "pycharm": {
     "name": "#%% md\n"
    }
   },
   "source": [
    "## Merkmalsextraktion"
   ]
  },
  {
   "cell_type": "markdown",
   "metadata": {
    "pycharm": {
     "name": "#%% md\n"
    }
   },
   "source": [
    "### HOG"
   ]
  },
  {
   "cell_type": "code",
   "execution_count": 227,
   "metadata": {
    "pycharm": {
     "name": "#%%\n"
    }
   },
   "outputs": [],
   "source": [
    "hog = cv2.HOGDescriptor()"
   ]
  },
  {
   "cell_type": "code",
   "execution_count": 228,
   "metadata": {
    "pycharm": {
     "name": "#%%\n"
    }
   },
   "outputs": [
    {
     "name": "stdout",
     "output_type": "stream",
     "text": [
      "Standardeinstellung von cv2.HOGDescriptor():\n",
      "\n",
      "winSize:         (64, 128)\n",
      "blockSize:       (16, 16)\n",
      "blockStride:     (8, 8)\n",
      "cellSize:        (8, 8)\n",
      "nbins:           9\n",
      "winSigma:        -1.0\n",
      "L2HysThreshold:  0.2\n",
      "gammaCorrection: True\n",
      "nlevels:         64\n"
     ]
    }
   ],
   "source": [
    "hog = cv2.HOGDescriptor()\n",
    "print('Standardeinstellung von cv2.HOGDescriptor():\\n')\n",
    "print('winSize:         {}'.format(hog.winSize))\n",
    "print('blockSize:       {}'.format(hog.blockSize))\n",
    "print('blockStride:     {}'.format(hog.blockStride))\n",
    "print('cellSize:        {}'.format(hog.cellSize))\n",
    "print('nbins:           {}'.format(hog.nbins))\n",
    "print('winSigma:        {}'.format(hog.winSigma))\n",
    "print('L2HysThreshold:  {}'.format(hog.L2HysThreshold))\n",
    "print('gammaCorrection: {}'.format(hog.gammaCorrection))\n",
    "print('nlevels:         {}'.format(hog.nlevels))"
   ]
  },
  {
   "cell_type": "code",
   "execution_count": 229,
   "metadata": {
    "pycharm": {
     "name": "#%%\n"
    }
   },
   "outputs": [
    {
     "name": "stdout",
     "output_type": "stream",
     "text": [
      "Help on class HOGDescriptor in module cv2:\n",
      "\n",
      "class HOGDescriptor(builtins.object)\n",
      " |  Methods defined here:\n",
      " |  \n",
      " |  __init__(self, /, *args, **kwargs)\n",
      " |      Initialize self.  See help(type(self)) for accurate signature.\n",
      " |  \n",
      " |  __new__(*args, **kwargs) from builtins.type\n",
      " |      Create and return a new object.  See help(type) for accurate signature.\n",
      " |  \n",
      " |  __repr__(self, /)\n",
      " |      Return repr(self).\n",
      " |  \n",
      " |  checkDetectorSize(...)\n",
      " |      checkDetectorSize() -> retval\n",
      " |      .   @brief Checks if detector size equal to descriptor size.\n",
      " |  \n",
      " |  compute(...)\n",
      " |      compute(img[, winStride[, padding[, locations]]]) -> descriptors\n",
      " |      .   @brief Computes HOG descriptors of given image.\n",
      " |      .   @param img Matrix of the type CV_8U containing an image where HOG features will be calculated.\n",
      " |      .   @param descriptors Matrix of the type CV_32F\n",
      " |      .   @param winStride Window stride. It must be a multiple of block stride.\n",
      " |      .   @param padding Padding\n",
      " |      .   @param locations Vector of Point\n",
      " |  \n",
      " |  computeGradient(...)\n",
      " |      computeGradient(img[, grad[, angleOfs[, paddingTL[, paddingBR]]]]) -> grad, angleOfs\n",
      " |      .   @brief  Computes gradients and quantized gradient orientations.\n",
      " |      .   @param img Matrix contains the image to be computed\n",
      " |      .   @param grad Matrix of type CV_32FC2 contains computed gradients\n",
      " |      .   @param angleOfs Matrix of type CV_8UC2 contains quantized gradient orientations\n",
      " |      .   @param paddingTL Padding from top-left\n",
      " |      .   @param paddingBR Padding from bottom-right\n",
      " |  \n",
      " |  detect(...)\n",
      " |      detect(img[, hitThreshold[, winStride[, padding[, searchLocations]]]]) -> foundLocations, weights\n",
      " |      .   @brief Performs object detection without a multi-scale window.\n",
      " |      .   @param img Matrix of the type CV_8U or CV_8UC3 containing an image where objects are detected.\n",
      " |      .   @param foundLocations Vector of point where each point contains left-top corner point of detected object boundaries.\n",
      " |      .   @param weights Vector that will contain confidence values for each detected object.\n",
      " |      .   @param hitThreshold Threshold for the distance between features and SVM classifying plane.\n",
      " |      .   Usually it is 0 and should be specified in the detector coefficients (as the last free coefficient).\n",
      " |      .   But if the free coefficient is omitted (which is allowed), you can specify it manually here.\n",
      " |      .   @param winStride Window stride. It must be a multiple of block stride.\n",
      " |      .   @param padding Padding\n",
      " |      .   @param searchLocations Vector of Point includes set of requested locations to be evaluated.\n",
      " |  \n",
      " |  detectMultiScale(...)\n",
      " |      detectMultiScale(img[, hitThreshold[, winStride[, padding[, scale[, finalThreshold[, useMeanshiftGrouping]]]]]]) -> foundLocations, foundWeights\n",
      " |      .   @brief Detects objects of different sizes in the input image. The detected objects are returned as a list\n",
      " |      .   of rectangles.\n",
      " |      .   @param img Matrix of the type CV_8U or CV_8UC3 containing an image where objects are detected.\n",
      " |      .   @param foundLocations Vector of rectangles where each rectangle contains the detected object.\n",
      " |      .   @param foundWeights Vector that will contain confidence values for each detected object.\n",
      " |      .   @param hitThreshold Threshold for the distance between features and SVM classifying plane.\n",
      " |      .   Usually it is 0 and should be specified in the detector coefficients (as the last free coefficient).\n",
      " |      .   But if the free coefficient is omitted (which is allowed), you can specify it manually here.\n",
      " |      .   @param winStride Window stride. It must be a multiple of block stride.\n",
      " |      .   @param padding Padding\n",
      " |      .   @param scale Coefficient of the detection window increase.\n",
      " |      .   @param finalThreshold Final threshold\n",
      " |      .   @param useMeanshiftGrouping indicates grouping algorithm\n",
      " |  \n",
      " |  getDaimlerPeopleDetector(...) from builtins.type\n",
      " |      getDaimlerPeopleDetector() -> retval\n",
      " |      .   @brief Returns coefficients of the classifier trained for people detection (for 48x96 windows).\n",
      " |  \n",
      " |  getDefaultPeopleDetector(...) from builtins.type\n",
      " |      getDefaultPeopleDetector() -> retval\n",
      " |      .   @brief Returns coefficients of the classifier trained for people detection (for 64x128 windows).\n",
      " |  \n",
      " |  getDescriptorSize(...)\n",
      " |      getDescriptorSize() -> retval\n",
      " |      .   @brief Returns the number of coefficients required for the classification.\n",
      " |  \n",
      " |  getWinSigma(...)\n",
      " |      getWinSigma() -> retval\n",
      " |      .   @brief Returns winSigma value\n",
      " |  \n",
      " |  load(...)\n",
      " |      load(filename[, objname]) -> retval\n",
      " |      .   @brief loads coefficients for the linear SVM classifier from a file\n",
      " |      .   @param filename Name of the file to read.\n",
      " |      .   @param objname The optional name of the node to read (if empty, the first top-level node will be used).\n",
      " |  \n",
      " |  save(...)\n",
      " |      save(filename[, objname]) -> None\n",
      " |      .   @brief saves coefficients for the linear SVM classifier to a file\n",
      " |      .   @param filename File name\n",
      " |      .   @param objname Object name\n",
      " |  \n",
      " |  setSVMDetector(...)\n",
      " |      setSVMDetector(_svmdetector) -> None\n",
      " |      .   @brief Sets coefficients for the linear SVM classifier.\n",
      " |      .   @param _svmdetector coefficients for the linear SVM classifier.\n",
      " |  \n",
      " |  ----------------------------------------------------------------------\n",
      " |  Data descriptors defined here:\n",
      " |  \n",
      " |  L2HysThreshold\n",
      " |      L2HysThreshold\n",
      " |  \n",
      " |  blockSize\n",
      " |      blockSize\n",
      " |  \n",
      " |  blockStride\n",
      " |      blockStride\n",
      " |  \n",
      " |  cellSize\n",
      " |      cellSize\n",
      " |  \n",
      " |  derivAperture\n",
      " |      derivAperture\n",
      " |  \n",
      " |  gammaCorrection\n",
      " |      gammaCorrection\n",
      " |  \n",
      " |  histogramNormType\n",
      " |      histogramNormType\n",
      " |  \n",
      " |  nbins\n",
      " |      nbins\n",
      " |  \n",
      " |  nlevels\n",
      " |      nlevels\n",
      " |  \n",
      " |  signedGradient\n",
      " |      signedGradient\n",
      " |  \n",
      " |  svmDetector\n",
      " |      svmDetector\n",
      " |  \n",
      " |  winSigma\n",
      " |      winSigma\n",
      " |  \n",
      " |  winSize\n",
      " |      winSize\n",
      "\n"
     ]
    }
   ],
   "source": [
    "img = cv2.imread('')\n",
    "# img.shape\n",
    "help(cv2.HOGDescriptor)"
   ]
  },
  {
   "cell_type": "code",
   "execution_count": 230,
   "metadata": {
    "pycharm": {
     "name": "#%%\n"
    }
   },
   "outputs": [],
   "source": [
    "def set_hog_params():\n",
    "    '''\n",
    "    Ueberschreibt Standardeinstellungsparameter von HOGDescriptor()\n",
    "    TODO: Waehle sinnvolle Paameter fuer deinen eigenen HOG-Deskriptor und \n",
    "    extrahiere die HOG-Features für 2 beliebige Klassen\n",
    "    NOTE: 手动填写HOGDescriptor的参数\n",
    "    '''\n",
    "    # Waehle win_size-Parameter (als Tuple anzugeben)\n",
    "    win_size = (40, 40) # NOTE: size of images are 800*1360\n",
    "    # Waehle block_size-Parameter (als Tuple anzugeben)\n",
    "    block_size = (8, 8) \n",
    "    # Waehle block_stride-Parameter (als Tuple anzugeben)\n",
    "    block_stride = (4, 4) # NOTE: block的步长\n",
    "    # Waehle cell_size-Parameter (als Tuple anzugeben)\n",
    "    cell_size = (8, 8)\n",
    "    # Waehle nbins-Parameter (als Integer anzugeben)\n",
    "    nbins = 7\n",
    "    hog_set = cv2.HOGDescriptor(win_size, block_size, block_stride, cell_size, nbins)\n",
    "    return hog_set"
   ]
  },
  {
   "cell_type": "code",
   "execution_count": 231,
   "metadata": {},
   "outputs": [],
   "source": [
    "# DONE: generate hog list\n",
    "hog_train_list = []\n",
    "hog = set_hog_params()\n",
    "winStride = (8,8)\n",
    "padding = (8,8)\n",
    "\n",
    "for img in X_train_img:\n",
    "    ''' 因为X_train_img里的图像被reshape()变成了0-1之间，因此需要cv2.normalize把他重新转换成0-255'''\n",
    "    img_255 = cv2.normalize(img, img, 0, 255, cv2.NORM_MINMAX, dtype = cv2.CV_8UC3)\n",
    "    test_hog = hog.compute(img_255, winStride, padding).reshape((-1,))\n",
    "    hog_train_list.append(test_hog)"
   ]
  },
  {
   "cell_type": "markdown",
   "metadata": {
    "pycharm": {
     "name": "#%% md\n"
    }
   },
   "source": [
    "### SIFT"
   ]
  },
  {
   "cell_type": "code",
   "execution_count": 232,
   "metadata": {
    "pycharm": {
     "name": "#%%\n"
    }
   },
   "outputs": [],
   "source": [
    "sift = cv2.xfeatures2d.SIFT_create()"
   ]
  },
  {
   "cell_type": "code",
   "execution_count": 233,
   "metadata": {
    "pycharm": {
     "name": "#%%\n"
    }
   },
   "outputs": [
    {
     "name": "stdout",
     "output_type": "stream",
     "text": [
      "Help on xfeatures2d_SIFT object:\n",
      "\n",
      "class xfeatures2d_SIFT(Feature2D)\n",
      " |  Method resolution order:\n",
      " |      xfeatures2d_SIFT\n",
      " |      Feature2D\n",
      " |      Algorithm\n",
      " |      builtins.object\n",
      " |  \n",
      " |  Methods defined here:\n",
      " |  \n",
      " |  __new__(*args, **kwargs) from builtins.type\n",
      " |      Create and return a new object.  See help(type) for accurate signature.\n",
      " |  \n",
      " |  __repr__(self, /)\n",
      " |      Return repr(self).\n",
      " |  \n",
      " |  create(...) from builtins.type\n",
      " |      create([, nfeatures[, nOctaveLayers[, contrastThreshold[, edgeThreshold[, sigma]]]]]) -> retval\n",
      " |      .   @param nfeatures The number of best features to retain. The features are ranked by their scores\n",
      " |      .   (measured in SIFT algorithm as the local contrast)\n",
      " |      .   \n",
      " |      .   @param nOctaveLayers The number of layers in each octave. 3 is the value used in D. Lowe paper. The\n",
      " |      .   number of octaves is computed automatically from the image resolution.\n",
      " |      .   \n",
      " |      .   @param contrastThreshold The contrast threshold used to filter out weak features in semi-uniform\n",
      " |      .   (low-contrast) regions. The larger the threshold, the less features are produced by the detector.\n",
      " |      .   \n",
      " |      .   @param edgeThreshold The threshold used to filter out edge-like features. Note that the its meaning\n",
      " |      .   is different from the contrastThreshold, i.e. the larger the edgeThreshold, the less features are\n",
      " |      .   filtered out (more features are retained).\n",
      " |      .   \n",
      " |      .   @param sigma The sigma of the Gaussian applied to the input image at the octave \\#0. If your image\n",
      " |      .   is captured with a weak camera with soft lenses, you might want to reduce the number.\n",
      " |  \n",
      " |  ----------------------------------------------------------------------\n",
      " |  Methods inherited from Feature2D:\n",
      " |  \n",
      " |  compute(...)\n",
      " |      compute(image, keypoints[, descriptors]) -> keypoints, descriptors\n",
      " |      .   @brief Computes the descriptors for a set of keypoints detected in an image (first variant) or image set\n",
      " |      .   (second variant).\n",
      " |      .   \n",
      " |      .   @param image Image.\n",
      " |      .   @param keypoints Input collection of keypoints. Keypoints for which a descriptor cannot be\n",
      " |      .   computed are removed. Sometimes new keypoints can be added, for example: SIFT duplicates keypoint\n",
      " |      .   with several dominant orientations (for each orientation).\n",
      " |      .   @param descriptors Computed descriptors. In the second variant of the method descriptors[i] are\n",
      " |      .   descriptors computed for a keypoints[i]. Row j is the keypoints (or keypoints[i]) is the\n",
      " |      .   descriptor for keypoint j-th keypoint.\n",
      " |      \n",
      " |      \n",
      " |      \n",
      " |      compute(images, keypoints[, descriptors]) -> keypoints, descriptors\n",
      " |      .   @overload\n",
      " |      .   \n",
      " |      .   @param images Image set.\n",
      " |      .   @param keypoints Input collection of keypoints. Keypoints for which a descriptor cannot be\n",
      " |      .   computed are removed. Sometimes new keypoints can be added, for example: SIFT duplicates keypoint\n",
      " |      .   with several dominant orientations (for each orientation).\n",
      " |      .   @param descriptors Computed descriptors. In the second variant of the method descriptors[i] are\n",
      " |      .   descriptors computed for a keypoints[i]. Row j is the keypoints (or keypoints[i]) is the\n",
      " |      .   descriptor for keypoint j-th keypoint.\n",
      " |  \n",
      " |  defaultNorm(...)\n",
      " |      defaultNorm() -> retval\n",
      " |      .\n",
      " |  \n",
      " |  descriptorSize(...)\n",
      " |      descriptorSize() -> retval\n",
      " |      .\n",
      " |  \n",
      " |  descriptorType(...)\n",
      " |      descriptorType() -> retval\n",
      " |      .\n",
      " |  \n",
      " |  detect(...)\n",
      " |      detect(image[, mask]) -> keypoints\n",
      " |      .   @brief Detects keypoints in an image (first variant) or image set (second variant).\n",
      " |      .   \n",
      " |      .   @param image Image.\n",
      " |      .   @param keypoints The detected keypoints. In the second variant of the method keypoints[i] is a set\n",
      " |      .   of keypoints detected in images[i] .\n",
      " |      .   @param mask Mask specifying where to look for keypoints (optional). It must be a 8-bit integer\n",
      " |      .   matrix with non-zero values in the region of interest.\n",
      " |      \n",
      " |      \n",
      " |      \n",
      " |      detect(images[, masks]) -> keypoints\n",
      " |      .   @overload\n",
      " |      .   @param images Image set.\n",
      " |      .   @param keypoints The detected keypoints. In the second variant of the method keypoints[i] is a set\n",
      " |      .   of keypoints detected in images[i] .\n",
      " |      .   @param masks Masks for each input image specifying where to look for keypoints (optional).\n",
      " |      .   masks[i] is a mask for images[i].\n",
      " |  \n",
      " |  detectAndCompute(...)\n",
      " |      detectAndCompute(image, mask[, descriptors[, useProvidedKeypoints]]) -> keypoints, descriptors\n",
      " |      .   Detects keypoints and computes the descriptors\n",
      " |  \n",
      " |  empty(...)\n",
      " |      empty() -> retval\n",
      " |      .\n",
      " |  \n",
      " |  getDefaultName(...)\n",
      " |      getDefaultName() -> retval\n",
      " |      .\n",
      " |  \n",
      " |  read(...)\n",
      " |      read(fileName) -> None\n",
      " |      .   \n",
      " |      \n",
      " |      \n",
      " |      \n",
      " |      read(arg1) -> None\n",
      " |      .\n",
      " |  \n",
      " |  write(...)\n",
      " |      write(fileName) -> None\n",
      " |      .   \n",
      " |      \n",
      " |      \n",
      " |      \n",
      " |      write(fs[, name]) -> None\n",
      " |      .\n",
      " |  \n",
      " |  ----------------------------------------------------------------------\n",
      " |  Methods inherited from Algorithm:\n",
      " |  \n",
      " |  clear(...)\n",
      " |      clear() -> None\n",
      " |      .   @brief Clears the algorithm state\n",
      " |  \n",
      " |  save(...)\n",
      " |      save(filename) -> None\n",
      " |      .   Saves the algorithm to a file.\n",
      " |      .   In order to make this method work, the derived class must implement Algorithm::write(FileStorage& fs).\n",
      "\n"
     ]
    }
   ],
   "source": [
    "help(sift)"
   ]
  },
  {
   "cell_type": "code",
   "execution_count": 234,
   "metadata": {
    "pycharm": {
     "name": "#%%\n"
    }
   },
   "outputs": [],
   "source": [
    "# DONE: SIFT-Merkmale extrahieren\n",
    "sift_list = []\n",
    "\n",
    "for img in X_train_img:\n",
    "    img_255 = cv2.normalize(img, img, 0, 255, cv2.NORM_MINMAX, dtype = cv2.CV_8UC3)\n",
    "    img_gray= cv2.cvtColor(img_255,cv2.COLOR_BGR2GRAY)\n",
    "    sift = cv2.xfeatures2d.SIFT_create()\n",
    "    kp = sift.detect(img_gray,None)\n",
    "    sift_list.append(kp)"
   ]
  },
  {
   "cell_type": "markdown",
   "metadata": {
    "pycharm": {
     "name": "#%% md\n"
    }
   },
   "source": [
    "## PCA"
   ]
  },
  {
   "cell_type": "code",
   "execution_count": 235,
   "metadata": {
    "pycharm": {
     "name": "#%%\n"
    }
   },
   "outputs": [],
   "source": [
    "# https://towardsdatascience.com/pca-using-python-scikit-learn-e653f8989e60\n",
    "# Schritt 1: Standartisierung der Daten (Features) auf mean=0 und variance=1 - Optimierung der Performance\n",
    "# Schritt 2: PCA mit Variation der Anzahl der Principal Components\n",
    "# Schritt 3: Visualisierung der ersten 2 Principal Components PC1 und PC2"
   ]
  },
  {
   "cell_type": "code",
   "execution_count": 236,
   "metadata": {
    "pycharm": {
     "name": "#%%\n"
    }
   },
   "outputs": [],
   "source": [
    "# 1: Standartisierung\n",
    "'''标准化：比例缩放\n",
    "标准化后的结果：均值等于0，方差等于1'''\n",
    "scaler = StandardScaler()\n",
    "scaler.fit(X_train_hog_01)\n",
    "\n",
    "train_img = scaler.transform(X_train_hog_01)\n",
    "test_img = scaler.transform(X_test_hog_01)"
   ]
  },
  {
   "cell_type": "code",
   "execution_count": 237,
   "metadata": {
    "pycharm": {
     "name": "#%%\n"
    }
   },
   "outputs": [],
   "source": [
    "# 2: PCA mit Variation der Anzahl der Principal Components\n",
    "'''创建一个有两个主成分的PCA'''\n",
    "pca = PCA(n_components=2)\n",
    "# principal_components is an ndarray of shape (n_samples, n_components)\n",
    "principal_components = pca.fit_transform(X_train_hog_01) # 生成的是一个有n个sample的ndarray"
   ]
  },
  {
   "cell_type": "code",
   "execution_count": 238,
   "metadata": {
    "pycharm": {
     "name": "#%%\n"
    }
   },
   "outputs": [
    {
     "data": {
      "text/plain": [
       "array([0.13511279, 0.10088468], dtype=float32)"
      ]
     },
     "execution_count": 238,
     "metadata": {},
     "output_type": "execute_result"
    }
   ],
   "source": [
    "# explained variance - Varianzanteil jeder der Principal Components  -\n",
    "''' 主成成分的解释方差比（explained variance ratio）, 表示每个主成分分到了多少份数据集方差'''\n",
    "pca.explained_variance_ratio_"
   ]
  },
  {
   "cell_type": "code",
   "execution_count": 239,
   "metadata": {
    "pycharm": {
     "name": "#%%\n"
    }
   },
   "outputs": [
    {
     "data": {
      "text/plain": [
       "355"
      ]
     },
     "execution_count": 239,
     "metadata": {},
     "output_type": "execute_result"
    }
   ],
   "source": [
    "pca_95 = PCA(.95)\n",
    "pca_95.fit(X_train_hog_01)\n",
    "pca_95.n_components_"
   ]
  },
  {
   "cell_type": "code",
   "execution_count": 240,
   "metadata": {
    "pycharm": {
     "name": "#%%\n"
    }
   },
   "outputs": [
    {
     "data": {
      "text/html": [
       "<div>\n",
       "<style scoped>\n",
       "    .dataframe tbody tr th:only-of-type {\n",
       "        vertical-align: middle;\n",
       "    }\n",
       "\n",
       "    .dataframe tbody tr th {\n",
       "        vertical-align: top;\n",
       "    }\n",
       "\n",
       "    .dataframe thead th {\n",
       "        text-align: right;\n",
       "    }\n",
       "</style>\n",
       "<table border=\"1\" class=\"dataframe\">\n",
       "  <thead>\n",
       "    <tr style=\"text-align: right;\">\n",
       "      <th></th>\n",
       "      <th>principal component 1</th>\n",
       "      <th>principal component 2</th>\n",
       "    </tr>\n",
       "  </thead>\n",
       "  <tbody>\n",
       "    <tr>\n",
       "      <th>0</th>\n",
       "      <td>-0.954570</td>\n",
       "      <td>-0.374745</td>\n",
       "    </tr>\n",
       "    <tr>\n",
       "      <th>1</th>\n",
       "      <td>-0.510395</td>\n",
       "      <td>-0.526755</td>\n",
       "    </tr>\n",
       "    <tr>\n",
       "      <th>2</th>\n",
       "      <td>-0.149664</td>\n",
       "      <td>-0.486889</td>\n",
       "    </tr>\n",
       "    <tr>\n",
       "      <th>3</th>\n",
       "      <td>-0.268647</td>\n",
       "      <td>0.066129</td>\n",
       "    </tr>\n",
       "    <tr>\n",
       "      <th>4</th>\n",
       "      <td>-0.285174</td>\n",
       "      <td>-0.296424</td>\n",
       "    </tr>\n",
       "    <tr>\n",
       "      <th>...</th>\n",
       "      <td>...</td>\n",
       "      <td>...</td>\n",
       "    </tr>\n",
       "    <tr>\n",
       "      <th>1795</th>\n",
       "      <td>-1.681888</td>\n",
       "      <td>0.261519</td>\n",
       "    </tr>\n",
       "    <tr>\n",
       "      <th>1796</th>\n",
       "      <td>-0.616056</td>\n",
       "      <td>-0.367728</td>\n",
       "    </tr>\n",
       "    <tr>\n",
       "      <th>1797</th>\n",
       "      <td>-1.301831</td>\n",
       "      <td>1.179773</td>\n",
       "    </tr>\n",
       "    <tr>\n",
       "      <th>1798</th>\n",
       "      <td>0.369099</td>\n",
       "      <td>-0.337438</td>\n",
       "    </tr>\n",
       "    <tr>\n",
       "      <th>1799</th>\n",
       "      <td>-1.383484</td>\n",
       "      <td>-0.323695</td>\n",
       "    </tr>\n",
       "  </tbody>\n",
       "</table>\n",
       "<p>1800 rows × 2 columns</p>\n",
       "</div>"
      ],
      "text/plain": [
       "      principal component 1  principal component 2\n",
       "0                 -0.954570              -0.374745\n",
       "1                 -0.510395              -0.526755\n",
       "2                 -0.149664              -0.486889\n",
       "3                 -0.268647               0.066129\n",
       "4                 -0.285174              -0.296424\n",
       "...                     ...                    ...\n",
       "1795              -1.681888               0.261519\n",
       "1796              -0.616056              -0.367728\n",
       "1797              -1.301831               1.179773\n",
       "1798               0.369099              -0.337438\n",
       "1799              -1.383484              -0.323695\n",
       "\n",
       "[1800 rows x 2 columns]"
      ]
     },
     "execution_count": 240,
     "metadata": {},
     "output_type": "execute_result"
    }
   ],
   "source": [
    "#3: Visualisierung der ersten 2 Principal Components PC1 und PC2#\n",
    "# Anordnen der Daten (PC1, PC2 und ClassIDs) als Spalten einer DataFrame\n",
    "principalDf = pd.DataFrame(data = principal_components, columns = ['principal component 1', 'principal component 2'])\n",
    "principalDf"
   ]
  },
  {
   "cell_type": "code",
   "execution_count": 255,
   "metadata": {
    "pycharm": {
     "name": "#%%\n"
    }
   },
   "outputs": [
    {
     "data": {
      "text/plain": [
       "10    1511\n",
       "36     289\n",
       "Name: target, dtype: int64"
      ]
     },
     "execution_count": 255,
     "metadata": {},
     "output_type": "execute_result"
    }
   ],
   "source": [
    "\n",
    "data_labels_hog_01_df = pd.DataFrame(y_train_hog_01, columns=['target']) # target 就是之前选的两个要分类的类\n",
    "finalDf = pd.concat([principalDf, data_labels_hog_01_df[['target']]], axis = 1)"
   ]
  },
  {
   "cell_type": "code",
   "execution_count": 256,
   "metadata": {
    "pycharm": {
     "name": "#%%\n"
    }
   },
   "outputs": [
    {
     "data": {
      "image/png": "[encoded data removed]",
      "text/plain": [
       "<Figure size 576x576 with 1 Axes>"
      ]
     },
     "metadata": {
      "needs_background": "light"
     },
     "output_type": "display_data"
    }
   ],
   "source": [
    "# Plotten \n",
    "fig = plt.figure(figsize = (8,8))\n",
    "ax = fig.add_subplot(1,1,1) \n",
    "ax.set_xlabel('Principal Component 1', fontsize = 15)\n",
    "ax.set_ylabel('Principal Component 2', fontsize = 15)\n",
    "ax.set_title('2 component PCA', fontsize = 20)\n",
    "\n",
    "colors = ['b', 'y', 'r']\n",
    "for considered_class_id, color in zip(CONSIDERED_CLASS_IDs,colors):\n",
    "    indicesToKeep = finalDf['target'] == considered_class_id\n",
    "    ax.scatter(finalDf.loc[indicesToKeep, 'principal component 1']\n",
    "               , finalDf.loc[indicesToKeep, 'principal component 2']\n",
    "               , c = color\n",
    "               , s = 50)\n",
    "ax.legend(CONSIDERED_CLASS_IDs)\n",
    "ax.grid()"
   ]
  },
  {
   "cell_type": "code",
   "execution_count": 243,
   "metadata": {
    "pycharm": {
     "name": "#%%\n"
    }
   },
   "outputs": [],
   "source": [
    "# Beispiel: PCA for image data in Python\n",
    "# https://www.askpython.com/python/examples/principal-component-analysis-for-image-data"
   ]
  },
  {
   "cell_type": "markdown",
   "metadata": {
    "pycharm": {
     "name": "#%% md\n"
    }
   },
   "source": [
    "## Klassifikation mit SVM-Modellen"
   ]
  },
  {
   "cell_type": "markdown",
   "metadata": {
    "pycharm": {
     "name": "#%% md\n"
    }
   },
   "source": [
    "### Modell 1\n",
    "Modelltyp - **C_SVC** - kann beim Training nicht linear separierbarer Daten verwendet werden"
   ]
  },
  {
   "cell_type": "markdown",
   "metadata": {},
   "source": []
  },
  {
   "cell_type": "code",
   "execution_count": 278,
   "metadata": {
    "pycharm": {
     "name": "#%%\n"
    }
   },
   "outputs": [],
   "source": [
    "# https://docs.opencv.org/3.4/d1/d73/tutorial_introduction_to_svm.html\n",
    "def create_svm_model():\n",
    "    '''\n",
    "    SVM model\n",
    "    '''\n",
    "    svm_model = cv2.ml.SVM_create()\n",
    "    svm_model.setType(cv2.ml.SVM_C_SVC)\n",
    "    svm_model.setKernel(cv2.ml.SVM_LINEAR)\n",
    "    svm_model.setTermCriteria((cv2.TERM_CRITERIA_MAX_ITER, 100, 1e-6))\n",
    "    \n",
    "    return svm_model"
   ]
  },
  {
   "cell_type": "code",
   "execution_count": 279,
   "metadata": {
    "pycharm": {
     "name": "#%%\n"
    },
    "scrolled": true
   },
   "outputs": [
    {
     "name": "stdout",
     "output_type": "stream",
     "text": [
      "Help on ml_SVM object:\n",
      "\n",
      "class ml_SVM(ml_StatModel)\n",
      " |  Method resolution order:\n",
      " |      ml_SVM\n",
      " |      ml_StatModel\n",
      " |      Algorithm\n",
      " |      builtins.object\n",
      " |  \n",
      " |  Methods defined here:\n",
      " |  \n",
      " |  __new__(*args, **kwargs) from builtins.type\n",
      " |      Create and return a new object.  See help(type) for accurate signature.\n",
      " |  \n",
      " |  __repr__(self, /)\n",
      " |      Return repr(self).\n",
      " |  \n",
      " |  create(...) from builtins.type\n",
      " |      create() -> retval\n",
      " |      .   Creates empty model.\n",
      " |      .   Use StatModel::train to train the model. Since %SVM has several parameters, you may want to\n",
      " |      .   find the best parameters for your problem, it can be done with SVM::trainAuto.\n",
      " |  \n",
      " |  getC(...)\n",
      " |      getC() -> retval\n",
      " |      .   @see setC\n",
      " |  \n",
      " |  getClassWeights(...)\n",
      " |      getClassWeights() -> retval\n",
      " |      .   @see setClassWeights\n",
      " |  \n",
      " |  getCoef0(...)\n",
      " |      getCoef0() -> retval\n",
      " |      .   @see setCoef0\n",
      " |  \n",
      " |  getDecisionFunction(...)\n",
      " |      getDecisionFunction(i[, alpha[, svidx]]) -> retval, alpha, svidx\n",
      " |      .   @brief Retrieves the decision function\n",
      " |      .   \n",
      " |      .   @param i the index of the decision function. If the problem solved is regression, 1-class or\n",
      " |      .   2-class classification, then there will be just one decision function and the index should\n",
      " |      .   always be 0. Otherwise, in the case of N-class classification, there will be \\f$N(N-1)/2\\f$\n",
      " |      .   decision functions.\n",
      " |      .   @param alpha the optional output vector for weights, corresponding to different support vectors.\n",
      " |      .   In the case of linear %SVM all the alpha's will be 1's.\n",
      " |      .   @param svidx the optional output vector of indices of support vectors within the matrix of\n",
      " |      .   support vectors (which can be retrieved by SVM::getSupportVectors). In the case of linear\n",
      " |      .   %SVM each decision function consists of a single \"compressed\" support vector.\n",
      " |      .   \n",
      " |      .   The method returns rho parameter of the decision function, a scalar subtracted from the weighted\n",
      " |      .   sum of kernel responses.\n",
      " |  \n",
      " |  getDefaultGridPtr(...) from builtins.type\n",
      " |      getDefaultGridPtr(param_id) -> retval\n",
      " |      .   @brief Generates a grid for %SVM parameters.\n",
      " |      .   \n",
      " |      .   @param param_id %SVM parameters IDs that must be one of the SVM::ParamTypes. The grid is\n",
      " |      .   generated for the parameter with this ID.\n",
      " |      .   \n",
      " |      .   The function generates a grid pointer for the specified parameter of the %SVM algorithm.\n",
      " |      .   The grid may be passed to the function SVM::trainAuto.\n",
      " |  \n",
      " |  getDegree(...)\n",
      " |      getDegree() -> retval\n",
      " |      .   @see setDegree\n",
      " |  \n",
      " |  getGamma(...)\n",
      " |      getGamma() -> retval\n",
      " |      .   @see setGamma\n",
      " |  \n",
      " |  getKernelType(...)\n",
      " |      getKernelType() -> retval\n",
      " |      .   Type of a %SVM kernel.\n",
      " |      .   See SVM::KernelTypes. Default value is SVM::RBF.\n",
      " |  \n",
      " |  getNu(...)\n",
      " |      getNu() -> retval\n",
      " |      .   @see setNu\n",
      " |  \n",
      " |  getP(...)\n",
      " |      getP() -> retval\n",
      " |      .   @see setP\n",
      " |  \n",
      " |  getSupportVectors(...)\n",
      " |      getSupportVectors() -> retval\n",
      " |      .   @brief Retrieves all the support vectors\n",
      " |      .   \n",
      " |      .   The method returns all the support vectors as a floating-point matrix, where support vectors are\n",
      " |      .   stored as matrix rows.\n",
      " |  \n",
      " |  getTermCriteria(...)\n",
      " |      getTermCriteria() -> retval\n",
      " |      .   @see setTermCriteria\n",
      " |  \n",
      " |  getType(...)\n",
      " |      getType() -> retval\n",
      " |      .   @see setType\n",
      " |  \n",
      " |  getUncompressedSupportVectors(...)\n",
      " |      getUncompressedSupportVectors() -> retval\n",
      " |      .   @brief Retrieves all the uncompressed support vectors of a linear %SVM\n",
      " |      .   \n",
      " |      .   The method returns all the uncompressed support vectors of a linear %SVM that the compressed\n",
      " |      .   support vector, used for prediction, was derived from. They are returned in a floating-point\n",
      " |      .   matrix, where the support vectors are stored as matrix rows.\n",
      " |  \n",
      " |  load(...) from builtins.type\n",
      " |      load(filepath) -> retval\n",
      " |      .   @brief Loads and creates a serialized svm from a file\n",
      " |      .   *\n",
      " |      .   * Use SVM::save to serialize and store an SVM to disk.\n",
      " |      .   * Load the SVM from this file again, by calling this function with the path to the file.\n",
      " |      .   *\n",
      " |      .   * @param filepath path to serialized svm\n",
      " |  \n",
      " |  setC(...)\n",
      " |      setC(val) -> None\n",
      " |      .   @copybrief getC @see getC\n",
      " |  \n",
      " |  setClassWeights(...)\n",
      " |      setClassWeights(val) -> None\n",
      " |      .   @copybrief getClassWeights @see getClassWeights\n",
      " |  \n",
      " |  setCoef0(...)\n",
      " |      setCoef0(val) -> None\n",
      " |      .   @copybrief getCoef0 @see getCoef0\n",
      " |  \n",
      " |  setDegree(...)\n",
      " |      setDegree(val) -> None\n",
      " |      .   @copybrief getDegree @see getDegree\n",
      " |  \n",
      " |  setGamma(...)\n",
      " |      setGamma(val) -> None\n",
      " |      .   @copybrief getGamma @see getGamma\n",
      " |  \n",
      " |  setKernel(...)\n",
      " |      setKernel(kernelType) -> None\n",
      " |      .   Initialize with one of predefined kernels.\n",
      " |      .   See SVM::KernelTypes.\n",
      " |  \n",
      " |  setNu(...)\n",
      " |      setNu(val) -> None\n",
      " |      .   @copybrief getNu @see getNu\n",
      " |  \n",
      " |  setP(...)\n",
      " |      setP(val) -> None\n",
      " |      .   @copybrief getP @see getP\n",
      " |  \n",
      " |  setTermCriteria(...)\n",
      " |      setTermCriteria(val) -> None\n",
      " |      .   @copybrief getTermCriteria @see getTermCriteria\n",
      " |  \n",
      " |  setType(...)\n",
      " |      setType(val) -> None\n",
      " |      .   @copybrief getType @see getType\n",
      " |  \n",
      " |  trainAuto(...)\n",
      " |      trainAuto(samples, layout, responses[, kFold[, Cgrid[, gammaGrid[, pGrid[, nuGrid[, coeffGrid[, degreeGrid[, balanced]]]]]]]]) -> retval\n",
      " |      .   @brief Trains an %SVM with optimal parameters\n",
      " |      .   \n",
      " |      .   @param samples training samples\n",
      " |      .   @param layout See ml::SampleTypes.\n",
      " |      .   @param responses vector of responses associated with the training samples.\n",
      " |      .   @param kFold Cross-validation parameter. The training set is divided into kFold subsets. One\n",
      " |      .   subset is used to test the model, the others form the train set. So, the %SVM algorithm is\n",
      " |      .   @param Cgrid grid for C\n",
      " |      .   @param gammaGrid grid for gamma\n",
      " |      .   @param pGrid grid for p\n",
      " |      .   @param nuGrid grid for nu\n",
      " |      .   @param coeffGrid grid for coeff\n",
      " |      .   @param degreeGrid grid for degree\n",
      " |      .   @param balanced If true and the problem is 2-class classification then the method creates more\n",
      " |      .   balanced cross-validation subsets that is proportions between classes in subsets are close\n",
      " |      .   to such proportion in the whole train dataset.\n",
      " |      .   \n",
      " |      .   The method trains the %SVM model automatically by choosing the optimal parameters C, gamma, p,\n",
      " |      .   nu, coef0, degree. Parameters are considered optimal when the cross-validation\n",
      " |      .   estimate of the test set error is minimal.\n",
      " |      .   \n",
      " |      .   This function only makes use of SVM::getDefaultGrid for parameter optimization and thus only\n",
      " |      .   offers rudimentary parameter options.\n",
      " |      .   \n",
      " |      .   This function works for the classification (SVM::C_SVC or SVM::NU_SVC) as well as for the\n",
      " |      .   regression (SVM::EPS_SVR or SVM::NU_SVR). If it is SVM::ONE_CLASS, no optimization is made and\n",
      " |      .   the usual %SVM with parameters specified in params is executed.\n",
      " |  \n",
      " |  ----------------------------------------------------------------------\n",
      " |  Methods inherited from ml_StatModel:\n",
      " |  \n",
      " |  calcError(...)\n",
      " |      calcError(data, test[, resp]) -> retval, resp\n",
      " |      .   @brief Computes error on the training or test dataset\n",
      " |      .   \n",
      " |      .   @param data the training data\n",
      " |      .   @param test if true, the error is computed over the test subset of the data, otherwise it's\n",
      " |      .   computed over the training subset of the data. Please note that if you loaded a completely\n",
      " |      .   different dataset to evaluate already trained classifier, you will probably want not to set\n",
      " |      .   the test subset at all with TrainData::setTrainTestSplitRatio and specify test=false, so\n",
      " |      .   that the error is computed for the whole new set. Yes, this sounds a bit confusing.\n",
      " |      .   @param resp the optional output responses.\n",
      " |      .   \n",
      " |      .   The method uses StatModel::predict to compute the error. For regression models the error is\n",
      " |      .   computed as RMS, for classifiers - as a percent of missclassified samples (0%-100%).\n",
      " |  \n",
      " |  empty(...)\n",
      " |      empty() -> retval\n",
      " |      .\n",
      " |  \n",
      " |  getVarCount(...)\n",
      " |      getVarCount() -> retval\n",
      " |      .   @brief Returns the number of variables in training samples\n",
      " |  \n",
      " |  isClassifier(...)\n",
      " |      isClassifier() -> retval\n",
      " |      .   @brief Returns true if the model is classifier\n",
      " |  \n",
      " |  isTrained(...)\n",
      " |      isTrained() -> retval\n",
      " |      .   @brief Returns true if the model is trained\n",
      " |  \n",
      " |  predict(...)\n",
      " |      predict(samples[, results[, flags]]) -> retval, results\n",
      " |      .   @brief Predicts response(s) for the provided sample(s)\n",
      " |      .   \n",
      " |      .   @param samples The input samples, floating-point matrix\n",
      " |      .   @param results The optional output matrix of results.\n",
      " |      .   @param flags The optional flags, model-dependent. See cv::ml::StatModel::Flags.\n",
      " |  \n",
      " |  train(...)\n",
      " |      train(trainData[, flags]) -> retval\n",
      " |      .   @brief Trains the statistical model\n",
      " |      .   \n",
      " |      .   @param trainData training data that can be loaded from file using TrainData::loadFromCSV or\n",
      " |      .   created with TrainData::create.\n",
      " |      .   @param flags optional flags, depending on the model. Some of the models can be updated with the\n",
      " |      .   new training samples, not completely overwritten (such as NormalBayesClassifier or ANN_MLP).\n",
      " |      \n",
      " |      \n",
      " |      \n",
      " |      train(samples, layout, responses) -> retval\n",
      " |      .   @brief Trains the statistical model\n",
      " |      .   \n",
      " |      .   @param samples training samples\n",
      " |      .   @param layout See ml::SampleTypes.\n",
      " |      .   @param responses vector of responses associated with the training samples.\n",
      " |  \n",
      " |  ----------------------------------------------------------------------\n",
      " |  Methods inherited from Algorithm:\n",
      " |  \n",
      " |  clear(...)\n",
      " |      clear() -> None\n",
      " |      .   @brief Clears the algorithm state\n",
      " |  \n",
      " |  getDefaultName(...)\n",
      " |      getDefaultName() -> retval\n",
      " |      .   Returns the algorithm string identifier.\n",
      " |      .   This string is used as top level xml/yml node tag when the object is saved to a file or string.\n",
      " |  \n",
      " |  read(...)\n",
      " |      read(fn) -> None\n",
      " |      .   @brief Reads algorithm parameters from a file storage\n",
      " |  \n",
      " |  save(...)\n",
      " |      save(filename) -> None\n",
      " |      .   Saves the algorithm to a file.\n",
      " |      .   In order to make this method work, the derived class must implement Algorithm::write(FileStorage& fs).\n",
      " |  \n",
      " |  write(...)\n",
      " |      write(fs[, name]) -> None\n",
      " |      .   @brief simplified API for language bindings\n",
      " |      .   * @overload\n",
      "\n"
     ]
    }
   ],
   "source": [
    "help(cv2.ml.SVM_create())"
   ]
  },
  {
   "cell_type": "code",
   "execution_count": 280,
   "metadata": {
    "pycharm": {
     "name": "#%%\n"
    }
   },
   "outputs": [],
   "source": [
    "svm_for_hog_01_features = create_svm_model()"
   ]
  },
  {
   "cell_type": "code",
   "execution_count": 282,
   "metadata": {
    "pycharm": {
     "name": "#%%\n"
    }
   },
   "outputs": [
    {
     "data": {
      "text/plain": [
       "'svm.train(trainingData, cv.ml.ROW_SAMPLE, labels)\\n    svm.train(训练数据, cv.ml.ROW_SAMPLE, 标签)\\n'"
      ]
     },
     "execution_count": 282,
     "metadata": {},
     "output_type": "execute_result"
    }
   ],
   "source": [
    "svm_for_hog_01_features.train(X_train_hog_01, cv2.ml.ROW_SAMPLE, y_train_hog_01)\n",
    "'''svm.train(trainingData, cv.ml.ROW_SAMPLE, labels)\n",
    "    svm.train(训练数据, cv.ml.ROW_SAMPLE, 标签)\n",
    "'''"
   ]
  },
  {
   "cell_type": "code",
   "execution_count": 283,
   "metadata": {
    "pycharm": {
     "name": "#%%\n"
    }
   },
   "outputs": [],
   "source": [
    "predicted_y_array = svm_for_hog_01_features.predict(X_test_hog_01)"
   ]
  },
  {
   "cell_type": "code",
   "execution_count": 284,
   "metadata": {
    "pycharm": {
     "name": "#%%\n"
    }
   },
   "outputs": [
    {
     "data": {
      "text/plain": [
       "1.0"
      ]
     },
     "execution_count": 284,
     "metadata": {},
     "output_type": "execute_result"
    }
   ],
   "source": [
    "accuracy_score(y_test_hog_01, np.reshape(predicted_y_array[1], y_test_hog_01.shape))\n"
   ]
  },
  {
   "cell_type": "markdown",
   "metadata": {
    "pycharm": {
     "name": "#%% md\n"
    }
   },
   "source": [
    "### Modell 2\n",
    "https://docs.opencv.org/4.x/d1/d2d/classcv_1_1ml_1_1SVM.html#a533d3d3f950fed3f75be0d8692eeff58\n",
    "SVM-Modell, dessen Parameter waehend des Trainings automatisch optimiert werden\n",
    "\n",
    "(mit Hilfe der Methode trainAuto() )"
   ]
  },
  {
   "cell_type": "code",
   "execution_count": 264,
   "metadata": {
    "pycharm": {
     "name": "#%%\n"
    }
   },
   "outputs": [],
   "source": [
    "### trainAuto\n",
    "svm_for_hog_01_features2 = cv2.ml.SVM_create()"
   ]
  },
  {
   "cell_type": "code",
   "execution_count": 265,
   "metadata": {
    "pycharm": {
     "name": "#%%\n"
    }
   },
   "outputs": [
    {
     "data": {
      "text/plain": [
       "1.0"
      ]
     },
     "execution_count": 265,
     "metadata": {},
     "output_type": "execute_result"
    }
   ],
   "source": [
    "svm_for_hog_01_features2.trainAuto(X_train_hog_01, cv2.ml.ROW_SAMPLE, y_train_hog_01)\n",
    "predicted_y_array_train_auto = svm_for_hog_01_features2.predict(X_test_hog_01)\n",
    "accuracy_score(y_test_hog_01, predicted_y_array_train_auto[1])"
   ]
  },
  {
   "cell_type": "markdown",
   "metadata": {
    "pycharm": {
     "name": "#%% md\n"
    }
   },
   "source": [
    "## Learning Curve"
   ]
  },
  {
   "cell_type": "code",
   "execution_count": 274,
   "metadata": {
    "pycharm": {
     "name": "#%%\n"
    }
   },
   "outputs": [],
   "source": [
    "\n",
    "def plot_learning_curve(estimator, title, X, y, axes=None, ylim=None, cv=None,\n",
    "                        n_jobs=None, train_sizes=np.linspace(.1, 1.0, 5)):\n",
    "    \"\"\"\n",
    "    Generate 3 plots: the test and training learning curve, the training\n",
    "    samples vs fit times curve, the fit times vs score curve.\n",
    "\n",
    "    Parameters\n",
    "    ----------\n",
    "    NOTE: 这些输入的参数基本上都被传到learning_curve()里。\n",
    "    \n",
    "    estimator : object type that implements the \"fit\" and \"predict\" methods\n",
    "        An object of that type which is cloned for each validation.\n",
    "\n",
    "    title : string\n",
    "        Title for the chart.\n",
    "\n",
    "    X : array-like, shape (n_samples, n_features)\n",
    "        Training vector, where n_samples is the number of samples and\n",
    "        n_features is the number of features.\n",
    "    X: 训练集\n",
    "\n",
    "    y : array-like, shape (n_samples) or (n_samples, n_features), optional\n",
    "        Target relative to X for classification or regression;\n",
    "        None for unsupervised learning.\n",
    "    Y : 标签\n",
    "\n",
    "    axes : array of 3 axes, optional (default=None)\n",
    "        Axes to use for plotting the curves.\n",
    "\n",
    "    ylim : tuple, shape (ymin, ymax), optional\n",
    "        Defines minimum and maximum yvalues plotted.\n",
    "\n",
    "    cv : int, cross-validation generator or an iterable, optional\n",
    "        Determines the cross-validation splitting strategy.\n",
    "        Possible inputs for cv are:\n",
    "\n",
    "          - None, to use the default 5-fold cross-validation,\n",
    "          - integer, to specify the number of folds.\n",
    "          - :term:`CV splitter`,\n",
    "          - An iterable yielding (train, test) splits as arrays of indices.\n",
    "\n",
    "        For integer/None inputs, if ``y`` is binary or multiclass,\n",
    "        :class:`StratifiedKFold` used. If the estimator is not a classifier\n",
    "        or if ``y`` is neither binary nor multiclass, :class:`KFold` is used.\n",
    "\n",
    "        Refer :ref:`User Guide <cross_validation>` for the various\n",
    "        cross-validators that can be used here.\n",
    "\n",
    "    n_jobs : int or None, optional (default=None)\n",
    "        Number of jobs to run in parallel.\n",
    "        ``None`` means 1 unless in a :obj:`joblib.parallel_backend` context.\n",
    "        ``-1`` means using all processors. See :term:`Glossary <n_jobs>`\n",
    "        for more details.\n",
    "\n",
    "    train_sizes : array-like, shape (n_ticks,), dtype float or int\n",
    "        Relative or absolute numbers of training examples that will be used to\n",
    "        generate the learning curve. If the dtype is float, it is regarded as a\n",
    "        fraction of the maximum size of the training set (that is determined\n",
    "        by the selected validation method), i.e. it has to be within (0, 1].\n",
    "        Otherwise it is interpreted as absolute sizes of the training sets.\n",
    "        Note that for classification the number of samples usually have to\n",
    "        be big enough to contain at least one sample from each class.\n",
    "        (default: np.linspace(0.1, 1.0, 5))\n",
    "    \"\"\"\n",
    "    if axes is None:\n",
    "        _, axes = plt.subplots(1, 3, figsize=(20, 5))\n",
    "\n",
    "    axes[0].set_title(title)\n",
    "    if ylim is not None:\n",
    "        axes[0].set_ylim(*ylim)\n",
    "    axes[0].set_xlabel(\"Training examples\")\n",
    "    axes[0].set_ylabel(\"Score\")\n",
    "\n",
    "    train_sizes, train_scores, test_scores, fit_times, _ = \\\n",
    "        learning_curve(estimator, X, y, cv=cv, n_jobs=n_jobs,\n",
    "                       train_sizes=train_sizes,\n",
    "                       return_times=True)\n",
    "    train_scores_mean = np.mean(train_scores, axis=1)\n",
    "    train_scores_std = np.std(train_scores, axis=1)\n",
    "    test_scores_mean = np.mean(test_scores, axis=1)\n",
    "    test_scores_std = np.std(test_scores, axis=1)\n",
    "    fit_times_mean = np.mean(fit_times, axis=1)\n",
    "    fit_times_std = np.std(fit_times, axis=1)\n",
    "    # print(train_scores.shape)\n",
    "\n",
    "    # Plot learning curve\n",
    "    axes[0].grid()\n",
    "    axes[0].fill_between(train_sizes, train_scores_mean - train_scores_std,\n",
    "                         train_scores_mean + train_scores_std, alpha=0.1,\n",
    "                         color=\"r\")\n",
    "    axes[0].fill_between(train_sizes, test_scores_mean - test_scores_std,\n",
    "                         test_scores_mean + test_scores_std, alpha=0.1,\n",
    "                         color=\"g\")\n",
    "    axes[0].plot(train_sizes, train_scores_mean, 'o-', color=\"r\",\n",
    "                 label=\"Training score\")\n",
    "    axes[0].plot(train_sizes, test_scores_mean, 'o-', color=\"g\",\n",
    "                 label=\"Cross-validation score\")\n",
    "    axes[0].legend(loc=\"best\")\n",
    "\n",
    "    # Plot n_samples vs fit_times\n",
    "    # times required by the models to train with various sizes of training dataset.\n",
    "    axes[1].grid()\n",
    "    axes[1].plot(train_sizes, fit_times_mean, 'o-')\n",
    "    axes[1].fill_between(train_sizes, fit_times_mean - fit_times_std,\n",
    "                         fit_times_mean + fit_times_std, alpha=0.1)\n",
    "    axes[1].set_xlabel(\"Training examples\")\n",
    "    axes[1].set_ylabel(\"fit_times\")\n",
    "    axes[1].set_title(\"Scalability of the model\")\n",
    "\n",
    "    # Plot fit_time vs score\n",
    "    # how much time was required to train the models for each training sizes\n",
    "    axes[2].grid()\n",
    "    axes[2].plot(fit_times_mean, test_scores_mean, 'o-')\n",
    "    axes[2].fill_between(fit_times_mean, test_scores_mean - test_scores_std,\n",
    "                         test_scores_mean + test_scores_std, alpha=0.1)\n",
    "    axes[2].set_xlabel(\"fit_times\")\n",
    "    axes[2].set_ylabel(\"Score\")\n",
    "    axes[2].set_title(\"Performance of the model\")\n",
    "\n",
    "    return plt\n"
   ]
  },
  {
   "cell_type": "code",
   "execution_count": 275,
   "metadata": {
    "pycharm": {
     "name": "#%%\n"
    }
   },
   "outputs": [],
   "source": [
    "\n",
    "X = txt_data_hog_01\n",
    "y = data_labels_hog_01"
   ]
  },
  {
   "cell_type": "code",
   "execution_count": 276,
   "metadata": {
    "pycharm": {
     "name": "#%%\n"
    }
   },
   "outputs": [
    {
     "data": {
      "image/png": "[encoded data removed]",
      "text/plain": [
       "<Figure size 720x1080 with 6 Axes>"
      ]
     },
     "metadata": {
      "needs_background": "light"
     },
     "output_type": "display_data"
    }
   ],
   "source": [
    "fig, axes = plt.subplots(3, 2, figsize=(10, 15))\n",
    "\n",
    "# X, y = load_digits(return_X_y=True)\n",
    "\n",
    "title = \"Learning Curves (Naive Bayes)\"\n",
    "# Cross validation with 100 iterations to get smoother mean test and train\n",
    "# score curves, each time with 20% data randomly selected as a validation set.\n",
    "cv = ShuffleSplit(n_splits=100, test_size=0.2, random_state=0)\n",
    "'''NOTE: cv = cross validation'''\n",
    "\n",
    "estimator = GaussianNB()\n",
    "plot_learning_curve(estimator, title, X, y, axes=axes[:, 0], ylim=(0.7, 1.01),\n",
    "                    cv=cv, n_jobs=4)\n",
    "\n",
    "title = r\"Learning Curves (SVM, RBF kernel, $\\gamma=0.001$)\"\n",
    "# SVC is more expensive so we do a lower number of CV iterations:\n",
    "cv = ShuffleSplit(n_splits=10, test_size=0.2, random_state=0)\n",
    "estimator = SVC(gamma=0.001)\n",
    "plot_learning_curve(estimator, title, X, y, axes=axes[:, 1], ylim=(0.7, 1.01),\n",
    "                    cv=cv, n_jobs=4)\n",
    "\n",
    "plt.show()"
   ]
  }
 ],
 "metadata": {
  "kernelspec": {
   "display_name": "Python 3.6.13 ('BGA2_macos')",
   "language": "python",
   "name": "python3"
  },
  "language_info": {
   "codemirror_mode": {
    "name": "ipython",
    "version": 3
   },
   "file_extension": ".py",
   "mimetype": "text/x-python",
   "name": "python",
   "nbconvert_exporter": "python",
   "pygments_lexer": "ipython3",
   "version": "3.6.13"
  },
  "vscode": {
   "interpreter": {
    "hash": "9f8056f0024b9c33bf88f6b30261f392fae45831253711791418fb2e5b6bf693"
   }
  }
 },
 "nbformat": 4,
 "nbformat_minor": 4
}