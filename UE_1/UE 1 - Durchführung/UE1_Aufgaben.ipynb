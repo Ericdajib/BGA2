{
 "cells": [
  {
   "cell_type": "markdown",
   "metadata": {
    "pycharm": {
     "name": "#%% md\n"
    }
   },
   "source": [
    "# Übung 1 Einlesen und Anzeigen der Datensätze"
   ]
  },
  {
   "cell_type": "markdown",
   "metadata": {
    "pycharm": {
     "name": "#%% md\n"
    }
   },
   "source": [
    "**German Traffic Sign Detection Benchmark**\n",
    "\n",
    "Detallierte Beschreibung des Datensatzes siehe unter folgendem [Link](http://benchmark.ini.rub.de/?section=gtsdb&subsection=news)"
   ]
  },
  {
   "cell_type": "markdown",
   "metadata": {
    "pycharm": {
     "name": "#%% md\n"
    }
   },
   "source": [
    "## Imports"
   ]
  },
  {
   "cell_type": "markdown",
   "source": [],
   "metadata": {
    "collapsed": false,
    "pycharm": {
     "name": "#%% md\n"
    }
   }
  },
  {
   "cell_type": "code",
   "execution_count": 12,
   "metadata": {
    "pycharm": {
     "name": "#%%\n"
    }
   },
   "outputs": [
    {
     "name": "stdout",
     "output_type": "stream",
     "text": [
      "Enabling notebook extension jupyter-js-widgets/extension...\r\n",
      "      - Validating: \u001B[32mOK\u001B[0m\r\n"
     ]
    }
   ],
   "source": [
    "# Die folgenden Anweisungen müssen nur ein mal ausgeführt werden\n",
    "!pip install -U -q ipywidgets\n",
    "!jupyter nbextension enable --py widgetsnbextension"
   ]
  },
  {
   "cell_type": "code",
   "execution_count": 1,
   "metadata": {
    "pycharm": {
     "name": "#%%\n"
    }
   },
   "outputs": [],
   "source": [
    "import os\n",
    "\n",
    "import csv\n",
    "import wget\n",
    "import cv2\n",
    "import numpy as np\n",
    "import pandas as pd\n",
    "import matplotlib.pyplot as plt\n",
    "from IPython.display import display\n",
    "from ipywidgets import interact, interactive, fixed, interact_manual, widgets"
   ]
  },
  {
   "cell_type": "code",
   "execution_count": null,
   "metadata": {
    "pycharm": {
     "name": "#%%\n",
     "is_executing": true
    }
   },
   "outputs": [
    {
     "data": {
      "text/plain": "interactive(children=(IntSlider(value=10, description='x', max=30, min=-10), Output()), _dom_classes=('widget-…",
      "application/vnd.jupyter.widget-view+json": {
       "version_major": 2,
       "version_minor": 0,
       "model_id": "a9024b201c4b4853a605c301881c024e"
      }
     },
     "metadata": {},
     "output_type": "display_data"
    }
   ],
   "source": [
    "# Testfunktion für ipywidgets: \n",
    "# Es soll ein Slider angezeigt werden. Der Wertebereich des Sliders\n",
    "# soll zwischen -10(min) und 30(max) liegen. \n",
    "# Entsprechend der Sliderposition soll ein Ergebniswert angezeigt werden.\n",
    "def f(x):\n",
    "    return 3 * x\n",
    "interact(f, x= 10);"
   ]
  },
  {
   "cell_type": "markdown",
   "metadata": {
    "pycharm": {
     "name": "#%% md\n"
    }
   },
   "source": [
    "## Verwendete  Module / Funktionen"
   ]
  },
  {
   "cell_type": "markdown",
   "metadata": {
    "pycharm": {
     "name": "#%% md\n"
    }
   },
   "source": [
    "Mache dich mit der Funktionsweise foldender Module / Funktionen vertraut.\n",
    "Sie können zur Lösung der Aufgaben eingesetzt werden.\n",
    "- os.path\n",
    "- os.listdir\n",
    "- [csv.reader](https://docs.python.org/3/library/csv.html)\n",
    "- string.split\n",
    "- np.unique\n",
    "- list.append\n",
    "- plt.imread\n",
    "- plt.imshow\n",
    "- plt.show\n",
    "- dict\n",
    "- zip\n",
    "- dict(zip())\n",
    "- sorted\n",
    "- cv2.rectangle\n",
    "- cv2.putText\n",
    "- dict.keys\n",
    "- dict.values\n",
    "- enumerate\n",
    "- range\n",
    "- interact"
   ]
  },
  {
   "cell_type": "markdown",
   "metadata": {
    "pycharm": {
     "name": "#%% md\n"
    }
   },
   "source": [
    "## Aufgabe 1 – Einlesen der \"Ground Truth\"-Textdatei"
   ]
  },
  {
   "cell_type": "markdown",
   "metadata": {
    "pycharm": {
     "name": "#%% md\n"
    }
   },
   "source": [
    "### Aufgabe 1.a\n",
    "Lade den Datensatz herunter und entpacke ihn.\n",
    "Unter folgendem [Link](https://sid.erda.dk/public/archives/ff17dc924eba88d5d01a807357d6614c/published-archive.html) kannst du die Kurzbeschreibung des Datensatzes einsehen."
   ]
  },
  {
   "cell_type": "code",
   "execution_count": 10,
   "metadata": {
    "pycharm": {
     "name": "#%%\n"
    }
   },
   "outputs": [
    {
     "ename": "KeyboardInterrupt",
     "evalue": "",
     "output_type": "error",
     "traceback": [
      "\u001B[0;31m---------------------------------------------------------------------------\u001B[0m",
      "\u001B[0;31mKeyboardInterrupt\u001B[0m                         Traceback (most recent call last)",
      "\u001B[0;32m/opt/anaconda3/envs/BGA2_macos/lib/python3.6/urllib/request.py\u001B[0m in \u001B[0;36murlretrieve\u001B[0;34m(url, filename, reporthook, data)\u001B[0m\n\u001B[1;32m    276\u001B[0m             \u001B[0;32mwhile\u001B[0m \u001B[0;32mTrue\u001B[0m\u001B[0;34m:\u001B[0m\u001B[0;34m\u001B[0m\u001B[0;34m\u001B[0m\u001B[0m\n\u001B[0;32m--> 277\u001B[0;31m                 \u001B[0mblock\u001B[0m \u001B[0;34m=\u001B[0m \u001B[0mfp\u001B[0m\u001B[0;34m.\u001B[0m\u001B[0mread\u001B[0m\u001B[0;34m(\u001B[0m\u001B[0mbs\u001B[0m\u001B[0;34m)\u001B[0m\u001B[0;34m\u001B[0m\u001B[0;34m\u001B[0m\u001B[0m\n\u001B[0m\u001B[1;32m    278\u001B[0m                 \u001B[0;32mif\u001B[0m \u001B[0;32mnot\u001B[0m \u001B[0mblock\u001B[0m\u001B[0;34m:\u001B[0m\u001B[0;34m\u001B[0m\u001B[0;34m\u001B[0m\u001B[0m\n",
      "\u001B[0;32m/opt/anaconda3/envs/BGA2_macos/lib/python3.6/http/client.py\u001B[0m in \u001B[0;36mread\u001B[0;34m(self, amt)\u001B[0m\n\u001B[1;32m    462\u001B[0m             \u001B[0mb\u001B[0m \u001B[0;34m=\u001B[0m \u001B[0mbytearray\u001B[0m\u001B[0;34m(\u001B[0m\u001B[0mamt\u001B[0m\u001B[0;34m)\u001B[0m\u001B[0;34m\u001B[0m\u001B[0;34m\u001B[0m\u001B[0m\n\u001B[0;32m--> 463\u001B[0;31m             \u001B[0mn\u001B[0m \u001B[0;34m=\u001B[0m \u001B[0mself\u001B[0m\u001B[0;34m.\u001B[0m\u001B[0mreadinto\u001B[0m\u001B[0;34m(\u001B[0m\u001B[0mb\u001B[0m\u001B[0;34m)\u001B[0m\u001B[0;34m\u001B[0m\u001B[0;34m\u001B[0m\u001B[0m\n\u001B[0m\u001B[1;32m    464\u001B[0m             \u001B[0;32mreturn\u001B[0m \u001B[0mmemoryview\u001B[0m\u001B[0;34m(\u001B[0m\u001B[0mb\u001B[0m\u001B[0;34m)\u001B[0m\u001B[0;34m[\u001B[0m\u001B[0;34m:\u001B[0m\u001B[0mn\u001B[0m\u001B[0;34m]\u001B[0m\u001B[0;34m.\u001B[0m\u001B[0mtobytes\u001B[0m\u001B[0;34m(\u001B[0m\u001B[0;34m)\u001B[0m\u001B[0;34m\u001B[0m\u001B[0;34m\u001B[0m\u001B[0m\n",
      "\u001B[0;32m/opt/anaconda3/envs/BGA2_macos/lib/python3.6/http/client.py\u001B[0m in \u001B[0;36mreadinto\u001B[0;34m(self, b)\u001B[0m\n\u001B[1;32m    506\u001B[0m         \u001B[0;31m# (for example, reading in 1k chunks)\u001B[0m\u001B[0;34m\u001B[0m\u001B[0;34m\u001B[0m\u001B[0;34m\u001B[0m\u001B[0m\n\u001B[0;32m--> 507\u001B[0;31m         \u001B[0mn\u001B[0m \u001B[0;34m=\u001B[0m \u001B[0mself\u001B[0m\u001B[0;34m.\u001B[0m\u001B[0mfp\u001B[0m\u001B[0;34m.\u001B[0m\u001B[0mreadinto\u001B[0m\u001B[0;34m(\u001B[0m\u001B[0mb\u001B[0m\u001B[0;34m)\u001B[0m\u001B[0;34m\u001B[0m\u001B[0;34m\u001B[0m\u001B[0m\n\u001B[0m\u001B[1;32m    508\u001B[0m         \u001B[0;32mif\u001B[0m \u001B[0;32mnot\u001B[0m \u001B[0mn\u001B[0m \u001B[0;32mand\u001B[0m \u001B[0mb\u001B[0m\u001B[0;34m:\u001B[0m\u001B[0;34m\u001B[0m\u001B[0;34m\u001B[0m\u001B[0m\n",
      "\u001B[0;32m/opt/anaconda3/envs/BGA2_macos/lib/python3.6/socket.py\u001B[0m in \u001B[0;36mreadinto\u001B[0;34m(self, b)\u001B[0m\n\u001B[1;32m    585\u001B[0m             \u001B[0;32mtry\u001B[0m\u001B[0;34m:\u001B[0m\u001B[0;34m\u001B[0m\u001B[0;34m\u001B[0m\u001B[0m\n\u001B[0;32m--> 586\u001B[0;31m                 \u001B[0;32mreturn\u001B[0m \u001B[0mself\u001B[0m\u001B[0;34m.\u001B[0m\u001B[0m_sock\u001B[0m\u001B[0;34m.\u001B[0m\u001B[0mrecv_into\u001B[0m\u001B[0;34m(\u001B[0m\u001B[0mb\u001B[0m\u001B[0;34m)\u001B[0m\u001B[0;34m\u001B[0m\u001B[0;34m\u001B[0m\u001B[0m\n\u001B[0m\u001B[1;32m    587\u001B[0m             \u001B[0;32mexcept\u001B[0m \u001B[0mtimeout\u001B[0m\u001B[0;34m:\u001B[0m\u001B[0;34m\u001B[0m\u001B[0;34m\u001B[0m\u001B[0m\n",
      "\u001B[0;32m/opt/anaconda3/envs/BGA2_macos/lib/python3.6/ssl.py\u001B[0m in \u001B[0;36mrecv_into\u001B[0;34m(self, buffer, nbytes, flags)\u001B[0m\n\u001B[1;32m   1011\u001B[0m                   self.__class__)\n\u001B[0;32m-> 1012\u001B[0;31m             \u001B[0;32mreturn\u001B[0m \u001B[0mself\u001B[0m\u001B[0;34m.\u001B[0m\u001B[0mread\u001B[0m\u001B[0;34m(\u001B[0m\u001B[0mnbytes\u001B[0m\u001B[0;34m,\u001B[0m \u001B[0mbuffer\u001B[0m\u001B[0;34m)\u001B[0m\u001B[0;34m\u001B[0m\u001B[0;34m\u001B[0m\u001B[0m\n\u001B[0m\u001B[1;32m   1013\u001B[0m         \u001B[0;32melse\u001B[0m\u001B[0;34m:\u001B[0m\u001B[0;34m\u001B[0m\u001B[0;34m\u001B[0m\u001B[0m\n",
      "\u001B[0;32m/opt/anaconda3/envs/BGA2_macos/lib/python3.6/ssl.py\u001B[0m in \u001B[0;36mread\u001B[0;34m(self, len, buffer)\u001B[0m\n\u001B[1;32m    873\u001B[0m         \u001B[0;32mtry\u001B[0m\u001B[0;34m:\u001B[0m\u001B[0;34m\u001B[0m\u001B[0;34m\u001B[0m\u001B[0m\n\u001B[0;32m--> 874\u001B[0;31m             \u001B[0;32mreturn\u001B[0m \u001B[0mself\u001B[0m\u001B[0;34m.\u001B[0m\u001B[0m_sslobj\u001B[0m\u001B[0;34m.\u001B[0m\u001B[0mread\u001B[0m\u001B[0;34m(\u001B[0m\u001B[0mlen\u001B[0m\u001B[0;34m,\u001B[0m \u001B[0mbuffer\u001B[0m\u001B[0;34m)\u001B[0m\u001B[0;34m\u001B[0m\u001B[0;34m\u001B[0m\u001B[0m\n\u001B[0m\u001B[1;32m    875\u001B[0m         \u001B[0;32mexcept\u001B[0m \u001B[0mSSLError\u001B[0m \u001B[0;32mas\u001B[0m \u001B[0mx\u001B[0m\u001B[0;34m:\u001B[0m\u001B[0;34m\u001B[0m\u001B[0;34m\u001B[0m\u001B[0m\n",
      "\u001B[0;32m/opt/anaconda3/envs/BGA2_macos/lib/python3.6/ssl.py\u001B[0m in \u001B[0;36mread\u001B[0;34m(self, len, buffer)\u001B[0m\n\u001B[1;32m    630\u001B[0m         \u001B[0;32mif\u001B[0m \u001B[0mbuffer\u001B[0m \u001B[0;32mis\u001B[0m \u001B[0;32mnot\u001B[0m \u001B[0;32mNone\u001B[0m\u001B[0;34m:\u001B[0m\u001B[0;34m\u001B[0m\u001B[0;34m\u001B[0m\u001B[0m\n\u001B[0;32m--> 631\u001B[0;31m             \u001B[0mv\u001B[0m \u001B[0;34m=\u001B[0m \u001B[0mself\u001B[0m\u001B[0;34m.\u001B[0m\u001B[0m_sslobj\u001B[0m\u001B[0;34m.\u001B[0m\u001B[0mread\u001B[0m\u001B[0;34m(\u001B[0m\u001B[0mlen\u001B[0m\u001B[0;34m,\u001B[0m \u001B[0mbuffer\u001B[0m\u001B[0;34m)\u001B[0m\u001B[0;34m\u001B[0m\u001B[0;34m\u001B[0m\u001B[0m\n\u001B[0m\u001B[1;32m    632\u001B[0m         \u001B[0;32melse\u001B[0m\u001B[0;34m:\u001B[0m\u001B[0;34m\u001B[0m\u001B[0;34m\u001B[0m\u001B[0m\n",
      "\u001B[0;31mKeyboardInterrupt\u001B[0m: ",
      "\nDuring handling of the above exception, another exception occurred:\n",
      "\u001B[0;31mKeyboardInterrupt\u001B[0m                         Traceback (most recent call last)",
      "\u001B[0;32m<ipython-input-10-25551db01e72>\u001B[0m in \u001B[0;36m<module>\u001B[0;34m\u001B[0m\n\u001B[1;32m      2\u001B[0m \u001B[0;31m# Nach dem erfolgreichen Herunterladen kann dieser Block auskommentiert werden\u001B[0m\u001B[0;34m\u001B[0m\u001B[0;34m\u001B[0m\u001B[0;34m\u001B[0m\u001B[0m\n\u001B[1;32m      3\u001B[0m \u001B[0murl\u001B[0m \u001B[0;34m=\u001B[0m \u001B[0;34m\"https://sid.erda.dk/public/archives/ff17dc924eba88d5d01a807357d6614c/FullIJCNN2013.zip\"\u001B[0m\u001B[0;34m\u001B[0m\u001B[0;34m\u001B[0m\u001B[0m\n\u001B[0;32m----> 4\u001B[0;31m \u001B[0mwget\u001B[0m\u001B[0;34m.\u001B[0m\u001B[0mdownload\u001B[0m\u001B[0;34m(\u001B[0m\u001B[0murl\u001B[0m\u001B[0;34m)\u001B[0m\u001B[0;34m\u001B[0m\u001B[0;34m\u001B[0m\u001B[0m\n\u001B[0m",
      "\u001B[0;32m/opt/anaconda3/envs/BGA2_macos/lib/python3.6/site-packages/wget.py\u001B[0m in \u001B[0;36mdownload\u001B[0;34m(url, out, bar)\u001B[0m\n\u001B[1;32m    524\u001B[0m     \u001B[0;32melse\u001B[0m\u001B[0;34m:\u001B[0m\u001B[0;34m\u001B[0m\u001B[0;34m\u001B[0m\u001B[0m\n\u001B[1;32m    525\u001B[0m         \u001B[0mbinurl\u001B[0m \u001B[0;34m=\u001B[0m \u001B[0murl\u001B[0m\u001B[0;34m\u001B[0m\u001B[0;34m\u001B[0m\u001B[0m\n\u001B[0;32m--> 526\u001B[0;31m     \u001B[0;34m(\u001B[0m\u001B[0mtmpfile\u001B[0m\u001B[0;34m,\u001B[0m \u001B[0mheaders\u001B[0m\u001B[0;34m)\u001B[0m \u001B[0;34m=\u001B[0m \u001B[0mulib\u001B[0m\u001B[0;34m.\u001B[0m\u001B[0murlretrieve\u001B[0m\u001B[0;34m(\u001B[0m\u001B[0mbinurl\u001B[0m\u001B[0;34m,\u001B[0m \u001B[0mtmpfile\u001B[0m\u001B[0;34m,\u001B[0m \u001B[0mcallback\u001B[0m\u001B[0;34m)\u001B[0m\u001B[0;34m\u001B[0m\u001B[0;34m\u001B[0m\u001B[0m\n\u001B[0m\u001B[1;32m    527\u001B[0m     \u001B[0mfilename\u001B[0m \u001B[0;34m=\u001B[0m \u001B[0mdetect_filename\u001B[0m\u001B[0;34m(\u001B[0m\u001B[0murl\u001B[0m\u001B[0;34m,\u001B[0m \u001B[0mout\u001B[0m\u001B[0;34m,\u001B[0m \u001B[0mheaders\u001B[0m\u001B[0;34m)\u001B[0m\u001B[0;34m\u001B[0m\u001B[0;34m\u001B[0m\u001B[0m\n\u001B[1;32m    528\u001B[0m     \u001B[0;32mif\u001B[0m \u001B[0moutdir\u001B[0m\u001B[0;34m:\u001B[0m\u001B[0;34m\u001B[0m\u001B[0;34m\u001B[0m\u001B[0m\n",
      "\u001B[0;32m/opt/anaconda3/envs/BGA2_macos/lib/python3.6/urllib/request.py\u001B[0m in \u001B[0;36murlretrieve\u001B[0;34m(url, filename, reporthook, data)\u001B[0m\n\u001B[1;32m    282\u001B[0m                 \u001B[0mblocknum\u001B[0m \u001B[0;34m+=\u001B[0m \u001B[0;36m1\u001B[0m\u001B[0;34m\u001B[0m\u001B[0;34m\u001B[0m\u001B[0m\n\u001B[1;32m    283\u001B[0m                 \u001B[0;32mif\u001B[0m \u001B[0mreporthook\u001B[0m\u001B[0;34m:\u001B[0m\u001B[0;34m\u001B[0m\u001B[0;34m\u001B[0m\u001B[0m\n\u001B[0;32m--> 284\u001B[0;31m                     \u001B[0mreporthook\u001B[0m\u001B[0;34m(\u001B[0m\u001B[0mblocknum\u001B[0m\u001B[0;34m,\u001B[0m \u001B[0mbs\u001B[0m\u001B[0;34m,\u001B[0m \u001B[0msize\u001B[0m\u001B[0;34m)\u001B[0m\u001B[0;34m\u001B[0m\u001B[0;34m\u001B[0m\u001B[0m\n\u001B[0m\u001B[1;32m    285\u001B[0m \u001B[0;34m\u001B[0m\u001B[0m\n\u001B[1;32m    286\u001B[0m     \u001B[0;32mif\u001B[0m \u001B[0msize\u001B[0m \u001B[0;34m>=\u001B[0m \u001B[0;36m0\u001B[0m \u001B[0;32mand\u001B[0m \u001B[0mread\u001B[0m \u001B[0;34m<\u001B[0m \u001B[0msize\u001B[0m\u001B[0;34m:\u001B[0m\u001B[0;34m\u001B[0m\u001B[0;34m\u001B[0m\u001B[0m\n",
      "\u001B[0;31mKeyboardInterrupt\u001B[0m: "
     ]
    }
   ],
   "source": [
    "# Es wird ein Weilchen dauern die Daten herunterzuladen (1,54GB)\n",
    "# Nach dem erfolgreichen Herunterladen kann dieser Block auskommentiert werden\n",
    "# url = \"https://sid.erda.dk/public/archives/ff17dc924eba88d5d01a807357d6614c/FullIJCNN2013.zip\"\n",
    "# wget.download(url)\n",
    "# 德国交通标志的训练集"
   ]
  },
  {
   "cell_type": "code",
   "execution_count": 20,
   "metadata": {
    "pycharm": {
     "name": "#%%\n"
    }
   },
   "outputs": [],
   "source": [
    "# Definiere den Pfad zum heruntergeladenen Datenordner\n",
    "path_to_data = \"../dataset/FullIJCNN2013\"\n",
    "# Prüfe, ob der Pfad existiert / korrekt eingegeben wurde\n",
    "assert os.path.exists(path_to_data) , \"Der angegebene Pfad existriert nicht.\" #assert语句，如果条件为假，打印警告"
   ]
  },
  {
   "cell_type": "code",
   "execution_count": 51,
   "metadata": {
    "pycharm": {
     "name": "#%%\n"
    }
   },
   "outputs": [
    {
     "name": "stdout",
     "output_type": "stream",
     "text": [
      "<_csv.reader object at 0x7ffd92354748>\n"
     ]
    }
   ],
   "source": [
    "# Um hartcodierte Namen in den Funktionen zu vermeiden, definiere an dieser Stelle\n",
    "# alle Variablen, die als Eingabeparameter der Funktionen verwendet werden\n",
    "with open(\"../dataset/FullIJCNN2013/gt.txt\") as txt_file:\n",
    "    gt_txt = csv.reader(txt_file)\n",
    "    # gt_txt = txt_file.read()\n",
    "    print(gt_txt)\n",
    "\n",
    "\n",
    "# hard code： 硬编码，指本来可以用变量结果用常量搞得参数不好修改\n",
    "# 因为现在操作系统并不允许普通程序直接操作硬盘，所以文件就是请求操作系统打开一个文件对象，然后，通过操作系统提供的接口从这个文件对象中读取数据。\n",
    "# open()就是以读文件的模式打开文件对象，然后再用csv.reader()来读写"
   ]
  },
  {
   "cell_type": "markdown",
   "metadata": {
    "pycharm": {
     "name": "#%% md\n"
    }
   },
   "source": [
    "### Aufgabe 1.c\n",
    "Ermittle die Namen und die Anzahl der Bilder, die in der \"Ground Truth\"-Textdatei gt.txt nicht annotiert wurden.\n",
    "\n",
    "Nützliche Funktionen:\n",
    "- os.path\n",
    "- [csv.reader](https://docs.python.org/3/library/csv.html)\n",
    "- string.split\n",
    "- len\n",
    "- np.unique\n",
    "- list.append\n",
    "- range"
   ]
  },
  {
   "cell_type": "code",
   "execution_count": 54,
   "metadata": {
    "pycharm": {
     "name": "#%%\n"
    }
   },
   "outputs": [],
   "source": [
    "def list_not_annotated_images(path_to_data_folder, gt_txt_file):\n",
    "    \"\"\"\n",
    "        Liest Verkehrszeichendaten des German Traffic Sign Detection Benchmarks\n",
    "        Argumente: Pfad zum heruntergeladenen Datenordner, gt.txt-Datei\n",
    "        Rückgabe:(return)  Liste mit den Namen der Bilder, die nicht annotiert wurden,\n",
    "                   Anzahl nicht annotierter Bilder\n",
    "    \"\"\"\n",
    "    ###   TO DO   ###\n",
    "    # Definiere den Pfad zur gt.txt\n",
    "    txt_filepath = gt_txt_file\n",
    "    \n",
    "    assert os.path.exists(txt_filepath), \"Der angegebene Pfad existriert nicht.\"\n",
    "    \n",
    "    # Definiere eine leere Liste für Bildnamen\n",
    "    list_img_names = []\n",
    "    \n",
    "    # Öffne die gt.txt-Datei\n",
    "    with open(txt_filepath, newline='') as csvfile:\n",
    "        gt_reader = csv.reader(csvfile)\n",
    "        \n",
    "        # Bau eine Schleife, um die Daten Zeile für Zeile einzulesen und list_img_names zu füllen\n",
    "        for row in gt_reader:\n",
    "            list_img_names.append(row[0].split(sep = ';')[0])\n",
    "\n",
    "            \n",
    "    # Entferne doppelte Einträge aus der Liste\n",
    "    list_img_names = np.unique(list_img_names)\n",
    "    \n",
    "    # Ermittle, welche Bildnamen fehlen und mache daraus eine Liste\n",
    "    list_all_file_names = os.listdir(path_to_data_folder)\n",
    "    list_all_img_names = []\n",
    "\n",
    "    for file in list_all_file_names:\n",
    "        if os.path.splitext(file)[1] == \".ppm\":\n",
    "            list_all_img_names.append(file)\n",
    "\n",
    "    list_missing_names = list(set(list_all_img_names).difference(set(list_img_names)))\n",
    "\n",
    "    \n",
    "    # Ermittle die Anzahl der fehlenden Bildnamen\n",
    "    number_missing_img = len(list_all_img_names) - len(list_img_names)\n",
    "    \n",
    "    # Gebe folgendes aus: \"In total XYZ images in the data folder are not annotated.\"\n",
    "    # Anstelle von XYZ soll die Anzahl der nicht annotierten Bilder ausgegeben werden\n",
    "    print(f\"In total {number_missing_img} images in the data folder are not annotated.\")\n",
    "    \n",
    "    return list_missing_names, number_missing_img"
   ]
  },
  {
   "cell_type": "code",
   "execution_count": 59,
   "metadata": {
    "pycharm": {
     "name": "#%%\n"
    }
   },
   "outputs": [
    {
     "name": "stdout",
     "output_type": "stream",
     "text": [
      "In total 159 images in the data folder are not annotated.\n",
      "['00587.ppm', '00489.ppm', '00510.ppm', '00840.ppm', '00830.ppm', '00328.ppm', '00549.ppm', '00804.ppm', '00883.ppm', '00796.ppm', '00618.ppm', '00399.ppm', '00537.ppm', '00145.ppm', '00847.ppm', '00454.ppm', '00568.ppm', '00308.ppm', '00814.ppm', '00588.ppm', '00342.ppm', '00543.ppm', '00727.ppm', '00532.ppm', '00750.ppm', '00614.ppm', '00589.ppm', '00617.ppm', '00539.ppm', '00792.ppm', '00546.ppm', '00718.ppm', '00424.ppm', '00875.ppm', '00629.ppm', '00506.ppm', '00580.ppm', '00739.ppm', '00541.ppm', '00550.ppm', '00582.ppm', '00590.ppm', '00826.ppm', '00555.ppm', '00581.ppm', '00345.ppm', '00529.ppm', '00321.ppm', '00743.ppm', '00745.ppm', '00553.ppm', '00326.ppm', '00324.ppm', '00861.ppm', '00586.ppm', '00753.ppm', '00592.ppm', '00329.ppm', '00394.ppm', '00584.ppm', '00235.ppm', '00578.ppm', '00769.ppm', '00819.ppm', '00598.ppm', '00890.ppm', '00407.ppm', '00325.ppm', '00591.ppm', '00636.ppm', '00354.ppm', '00429.ppm', '00843.ppm', '00878.ppm', '00335.ppm', '00331.ppm', '00724.ppm', '00684.ppm', '00511.ppm', '00495.ppm', '00213.ppm', '00595.ppm', '00332.ppm', '00558.ppm', '00583.ppm', '00365.ppm', '00767.ppm', '00726.ppm', '00652.ppm', '00540.ppm', '00666.ppm', '00577.ppm', '00790.ppm', '00757.ppm', '00676.ppm', '00765.ppm', '00361.ppm', '00381.ppm', '00731.ppm', '00781.ppm', '00409.ppm', '00687.ppm', '00569.ppm', '00108.ppm', '00597.ppm', '00709.ppm', '00561.ppm', '00856.ppm', '00815.ppm', '00464.ppm', '00677.ppm', '00535.ppm', '00748.ppm', '00534.ppm', '00735.ppm', '00437.ppm', '00462.ppm', '00533.ppm', '00812.ppm', '00579.ppm', '00892.ppm', '00526.ppm', '00713.ppm', '00832.ppm', '00563.ppm', '00643.ppm', '00594.ppm', '00572.ppm', '00327.ppm', '00538.ppm', '00389.ppm', '00759.ppm', '00576.ppm', '00585.ppm', '00873.ppm', '00336.ppm', '00573.ppm', '00708.ppm', '00522.ppm', '00711.ppm', '00562.ppm', '00525.ppm', '00600.ppm', '00442.ppm', '00793.ppm', '00627.ppm', '00364.ppm', '00768.ppm', '00799.ppm', '00547.ppm', '00559.ppm', '00786.ppm', '00469.ppm', '00596.ppm', '00800.ppm', '00139.ppm', '00574.ppm', '00877.ppm', '00880.ppm'] \n",
      " 159\n"
     ]
    }
   ],
   "source": [
    "# Rufe die Funktion aus und prüfe, ob alles wie erwartet funktioniert\n",
    "missing_img_list, missing_img_number = list_not_annotated_images(\"../dataset/FullIJCNN2013/\", \"../dataset/FullIJCNN2013/gt.txt\")\n",
    "\n",
    "print(missing_img_list,\"\\n\",missing_img_number)\n"
   ]
  },
  {
   "cell_type": "markdown",
   "metadata": {
    "pycharm": {
     "name": "#%% md\n"
    }
   },
   "source": [
    "### Aufgabe 1.d\n",
    "Schreibe eine Funktion, die die gt.txt-Datei einliest und drei Listen zurückgibt:\n",
    "- die Liste mit relativen Bildpfaden (strings),\n",
    "- die Liste mit ClassIDs (integers)\n",
    "- die Liste mit ROI-Koordinaten (integers)\n",
    "\n",
    "Einzelne Schritte kannst du aus list_not_annotated_images-Funktion übernehmen."
   ]
  },
  {
   "cell_type": "code",
   "execution_count": null,
   "metadata": {
    "pycharm": {
     "name": "#%%\n"
    }
   },
   "outputs": [],
   "source": [
    "def read_txt(path_to_data_folder, gt_txt_file):\n",
    "    \"\"\"\n",
    "        Liest Verkehrszeichendaten des German Traffic Sign Detection Benchmarks\n",
    "        Argumente: Pfad zum heruntergeladenen Datenordner\n",
    "        Rückgabe:  Liste mit relativen Bildpfaden, Liste mit ClassIDs, Liste mit ROI-Koordinaten\n",
    "    \"\"\"\n",
    "    ###   TO DO   ###\n",
    "    # Definiere den Pfad zur gt.txt\n",
    "    txt_filepath =\n",
    "    \n",
    "    # Prüfe, ob der Pfad existiert / korrekt eingegeben wurde\n",
    "    assert os.path.exists(txt_filepath), \"Der angegebene Pfad existriert nicht.\"\n",
    "    \n",
    "    # Definiere leere Listen\n",
    "    # Liste für Bildpfade\n",
    "    img_paths_list = \n",
    "    \n",
    "    # Liste für Class_IDs\n",
    "    class_ids_list =\n",
    "    \n",
    "    # Liste für ROIs\n",
    "    rois_list = \n",
    "    \n",
    "    # Öffne die gt.txt-Datei und ergänze den Code, um die entsprechenden Listen zu füllen\n",
    "    with open(txt_filepath, newline='') as csvfile:\n",
    "        gt_reader = \n",
    "        \n",
    "        for row in gt_reader:\n",
    "            ...\n",
    "                                  \n",
    "    return img_paths_list, class_ids_list, rois_list"
   ]
  },
  {
   "cell_type": "code",
   "execution_count": null,
   "metadata": {
    "pycharm": {
     "name": "#%%\n"
    }
   },
   "outputs": [],
   "source": [
    "ppm_file_paths, class_ids, rois = read_txt(path_to_data, gt_txt)"
   ]
  },
  {
   "cell_type": "code",
   "execution_count": null,
   "metadata": {
    "pycharm": {
     "name": "#%%\n"
    }
   },
   "outputs": [],
   "source": [
    "# Teste, ob die Bilder sich anzeigen lassen\n",
    "# Nutze hier die Listen ppm_filenames, class_ids, die du mit read_txt berechnet hast\n",
    "img = plt.imread(ppm_file_paths[100])\n",
    "print(\"Bildgröße\", img.shape)\n",
    "print(\"Class ID: \", class_ids[100])\n",
    "plt.imshow(img)\n",
    "plt.show()"
   ]
  },
  {
   "cell_type": "markdown",
   "metadata": {
    "pycharm": {
     "name": "#%% md\n"
    }
   },
   "source": [
    "## Aufgabe 2 – Mapping ClassID – Bezeichnung der Verkehrsschilder\n",
    "Generiere eine csv-Mapping-Datei aus ReadMe.txt. Nutze dafür alle dir zur Verfügung stehenden Mittel. Python Code ist für diese Aufgabe kein Muss. Die Datei soll das Mapping von Zahl zur Verkehrszeichenbezeichnung enthalten.\n",
    "Schreibe eine Funktion, die zwei Rückgabewerte zurückgibt:\n",
    "- pandas-DataFrame aus der generierten csv-Datei und\n",
    "- eine Dictionary (dict) mit ClassIDs als *keys* und Verkehrsschilderbezeichnungen als *values*.\n",
    "\n",
    "Nützliche Module / Funktionen:\n",
    "- pd.read_csv\n",
    "- os.path\n",
    "- dict(zip())"
   ]
  },
  {
   "cell_type": "code",
   "execution_count": null,
   "metadata": {
    "pycharm": {
     "name": "#%%\n"
    }
   },
   "outputs": [],
   "source": [
    "###   TO DO   ###\n",
    "# Generiere eine csv-Mapping-Datei und lege sie in den Datenordner ab\n",
    "# Definiere die Variable csv_mapping, z.B.: 'tf_signs_mapping.csv' (entspricht dem Namen der generierten Datei)\n",
    "csv_mapping = "
   ]
  },
  {
   "cell_type": "code",
   "execution_count": null,
   "metadata": {
    "pycharm": {
     "name": "#%%\n"
    }
   },
   "outputs": [],
   "source": [
    "def map_int_to_sign_name(path_to_data_folder, csv_mapping_file):\n",
    "    \"\"\"\n",
    "    Ordnet int-Zahl dem Schildnamen zu\n",
    "    Argumente: Pfad zum Datenordner, Name der csv-Datei\n",
    "    Rückgabe:  pandas-DataFrame aus der generierten csv-Datei und \n",
    "              eine Dictionary (dict) mit ClassIDs als keys und Traffic Sign Names als values\n",
    "    \"\"\"\n",
    "    \n",
    "    ###   TO DO   ###\n",
    "    csv_path = \n",
    "    \n",
    "    assert os.path.exists(csv_path), \"Der angegebene Pfad existriert nicht.\"\n",
    "    # Lese die csv-Datei als DataFrame ein\n",
    "    df = \n",
    "    \n",
    "    # dict_mapping-Variable soll eine Dictionary (dict) sein, mit ClassIDs als keys und Traffic Sign Names als values\n",
    "    dict_mapping = \n",
    "    \n",
    "    return dict_mapping, df"
   ]
  },
  {
   "cell_type": "code",
   "execution_count": null,
   "metadata": {
    "pycharm": {
     "name": "#%%\n"
    }
   },
   "outputs": [],
   "source": [
    "dict_mapping, df_map = map_int_to_sign_name(path_to_data, csv_mapping)"
   ]
  },
  {
   "cell_type": "code",
   "execution_count": null,
   "metadata": {
    "pycharm": {
     "name": "#%%\n"
    }
   },
   "outputs": [],
   "source": [
    "# Übersicht der Klassen\n",
    "df_map.style.hide_index()"
   ]
  },
  {
   "cell_type": "markdown",
   "metadata": {
    "pycharm": {
     "name": "#%% md\n"
    }
   },
   "source": [
    "## Aufgabe 3 – Visualisierung der Verkehrszeichen\n",
    "Schreibe eine Funktion, die ein Bild pro Klasse ausgibt. Verwende dafür die Bilder in den Unterordnern, die \n",
    "bereits nach **ClassID** genannt sind, um die Klassenzuordnung herzustellen. Für das Mapping verwende Variable **dict_mapping**, die in Aufgabe 2 berechnet wurde.\n",
    "\n",
    "Nützliche Module / Funktionen:\n",
    "- interact\n",
    "- os.path\n",
    "- list.append"
   ]
  },
  {
   "cell_type": "code",
   "execution_count": null,
   "metadata": {
    "pycharm": {
     "name": "#%%\n"
    }
   },
   "outputs": [],
   "source": [
    "def one_image_per_class(path_to_data_folder):\n",
    "    \"\"\"\n",
    "    Gibt eine Liste mit je einem Bildpfad pro Klasse zurück\n",
    "    Argumente: Pfad zum Datenordner\n",
    "    Rückgabe: Liste mit Bildpfaden\n",
    "    \"\"\"\n",
    "    ###   TO DO   ###\n",
    "    # Definiere eine leere Liste für Bildpfade\n",
    "    img_paths = \n",
    "    \n",
    "    # Generiere eine Liste mit den Namen der Unterordner. Python os-Modul kann hier nützlich sein\n",
    "    subfolders_paths = \n",
    "    \n",
    "    # Iteriere über die Unterordner-Pfade und speichere je ein Bildpfad aus den Unterordnern \n",
    "    for path in subfolders_paths:\n",
    "        assert os.path.exists(path), \"Der angegebene Pfad existriert nicht.\"\n",
    "        # Generiere einen gültigen Bildpfad\n",
    "        img_path = \n",
    "        assert os.path.exists(img_path), \"Der angegebene Pfad existriert nicht.\"\n",
    "        \n",
    "        # Füge jeden Bildpfad der Liste img_paths hinzu\n",
    "        ...\n",
    "        \n",
    "    return img_paths"
   ]
  },
  {
   "cell_type": "code",
   "execution_count": null,
   "metadata": {
    "pycharm": {
     "name": "#%%\n"
    }
   },
   "outputs": [],
   "source": [
    "img_paths_43_classes = one_image_per_class(path_to_data)"
   ]
  },
  {
   "cell_type": "code",
   "execution_count": null,
   "metadata": {
    "pycharm": {
     "name": "#%%\n"
    }
   },
   "outputs": [],
   "source": [
    "def show_img_tr_sign(idx):\n",
    "    ###   TO DO   ###\n",
    "    # Definiere eine print()- Funktion deren Ausgabe folgende Form hat:\n",
    "    # ClassID XY: dazu passende Bezeichnung\n",
    "    # z.B.: ClassID 25:  construction (danger)\n",
    "    print(...)\n",
    "    \n",
    "    plt.figure(figsize=(6,6))\n",
    "    img = plt.imread(img_paths_43_classes[idx])\n",
    "    plt.imshow(img)\n",
    "    plt.show()"
   ]
  },
  {
   "cell_type": "code",
   "execution_count": null,
   "metadata": {
    "pycharm": {
     "name": "#%%\n"
    }
   },
   "outputs": [],
   "source": [
    "# Nutze interaktive Anzeige, um die Bilder anzusehen\n",
    "interact(show_img_tr_sign, idx=widgets.IntSlider(min=0,max=len(img_paths_43)-1,step=1, value=0));"
   ]
  },
  {
   "cell_type": "markdown",
   "metadata": {
    "pycharm": {
     "name": "#%% md\n"
    }
   },
   "source": [
    "## Aufgabe 4 – Anzeige der ROIs (Regions of Interest)\n",
    "Schreibe eine Funktion, um innerhalb der angezeigten Bilder die Verkehrsschilder zu markieren. Verwende dafür die Bilder im Hauptordner und die dazugehörige gt.txt. Bedenke, dass jedes Bild nur einmal angezeigt werden soll. \n",
    "\n",
    "Nützliche Module / Funktionen:\n",
    "- dict(zip())\n",
    "- cv2.rectangle\n",
    "- cv2.putText"
   ]
  },
  {
   "cell_type": "code",
   "execution_count": null,
   "metadata": {
    "pycharm": {
     "name": "#%%\n"
    }
   },
   "outputs": [],
   "source": [
    "def calc_rois(path_to_data_folder, csv_mapping_file, gt_txt_file):\n",
    "    \"\"\"\n",
    "    Zeichnet ROIs und deren Bezeichnungen in die Bilder ein\n",
    "    Argumente: Pfad zum heruntergeladenen Datenordner, Dateinamen\n",
    "    Rückgabe:  Liste mit Bildern \n",
    "    \"\"\"\n",
    "    # Die Funktionen map_int_to_sign_name und read_txt sollten bereits implementiert sein  \n",
    "    map_tr_sing_int, df_map = map_int_to_sign_name(path_to_data_folder, csv_mapping_file)\n",
    "    ppm_filenames, class_ids, rois = read_txt(path_to_data_folder, gt_txt_file) \n",
    "    \n",
    "    ###   TO DO   ###\n",
    "    # Definiere eine leere Liste für die Speicherung von Bildern\n",
    "    data = \n",
    "    # Definiere ein leeres Dictionary\n",
    "    data_dict =\n",
    "    \n",
    "    curr_path = \"\"\n",
    "    img = None\n",
    "    counter_identical_path = 0\n",
    "    # Bevor du weitermachst, versuche zu verstehen, was in if- und else-Blöcken der Schleife passiert\n",
    "    for idx, file_path in enumerate(ppm_filenames):\n",
    "        if curr_path != file_path: \n",
    "            curr_path = file_path\n",
    "            # Lese ein Bild ein\n",
    "            img = plt.imread(file_path)\n",
    "            counter_identical_path = 1\n",
    "            # Definiere Koordinaten für die Positionierung des Textfeldes mit Beschreibung des Verkehrszeichens\n",
    "            initial_x_coordinate = \n",
    "            initial_y_coordinate = \n",
    "            # Bei dieser Variable handelt es sich um org-Parameter der cv2.putText\n",
    "            org_id_meaning = (initial_x_coordinate, initial_y_coordinate)\n",
    "        else:\n",
    "            counter_identical_path += 1\n",
    "            # Passe die x-Koordinate für jedes weitere Verkehrszeichen an\n",
    "            # Folgende Zeilen sind eventuell optional \n",
    "            # Es hängt davon ab, wo du die Bezeichnung positionierst \n",
    "            initial_y_coordinate =\n",
    "            org_id_meaning = (initial_x_coordinate, initial_y_coordinate)\n",
    "        \n",
    "        # Berechne Koordinaten des Rechtecks, benutze dafür die Variable rois\n",
    "        point1 = \n",
    "        point2 = \n",
    "        \n",
    "        # Zeichne das Rechteck mit Hilfe der berechneten Koordinaten in das Bild (cv2.rectangle) ein\n",
    "        img = \n",
    "        \n",
    "        # Ermittle Koordinaten für das Textfeld\n",
    "        org = (rois[idx][2] + 10, rois[idx][1] + 20)\n",
    "        # Speichere Verkehrszeichen-ID als string\n",
    "        text = \n",
    "        # Nutze cv2.putText um die Verkehrszeichen-ID neben dem entsprechenden Verkehrszeichen zu positionieren\n",
    "        img = \n",
    "        # Speichere Verkehrszeichen-ID mit der dazugehörigen Bezeichnung als string\n",
    "        text_id_meaning = \n",
    "        # Nutze cv2.putText um text_id_meaning im Bild zu positionieren\n",
    "        img = \n",
    "        # Füge jedes Bild der data-Liste hinzu\n",
    "        ...\n",
    "    \n",
    "    # Benutze die Verkettung dict(zip()). Die Dictionary soll Pfadnamen als keys und Bilder als Dictionaries enthalten \n",
    "    data_dict = \n",
    "    # Schpeichere die Bilder aus data_dict in die Liste\n",
    "    data_list = \n",
    "    \n",
    "    return data_list"
   ]
  },
  {
   "cell_type": "code",
   "execution_count": null,
   "metadata": {
    "pycharm": {
     "name": "#%%\n"
    }
   },
   "outputs": [],
   "source": [
    "data = calc_rois(path_to_data, csv_mapping, gt_txt)                                     "
   ]
  },
  {
   "cell_type": "code",
   "execution_count": null,
   "metadata": {
    "pycharm": {
     "name": "#%%\n"
    }
   },
   "outputs": [],
   "source": [
    "def show_img(idx):\n",
    "    '''\n",
    "    Helper-Funktion, die als erstes Parameter bei interact eingesetzt wird\n",
    "    '''\n",
    "    plt.figure(figsize=(16,8))\n",
    "    plt.imshow(data[idx])\n",
    "    plt.show()"
   ]
  },
  {
   "cell_type": "code",
   "execution_count": null,
   "metadata": {
    "pycharm": {
     "name": "#%%\n"
    }
   },
   "outputs": [],
   "source": [
    "interact(show_img, idx=widgets.IntSlider(min=0,max=len(data),step=1, value=0));"
   ]
  },
  {
   "cell_type": "markdown",
   "metadata": {
    "pycharm": {
     "name": "#%% md\n"
    }
   },
   "source": [
    "## GESCHAFFT !!!"
   ]
  },
  {
   "cell_type": "code",
   "execution_count": null,
   "metadata": {
    "pycharm": {
     "name": "#%%\n"
    }
   },
   "outputs": [],
   "source": []
  }
 ],
 "metadata": {
  "kernelspec": {
   "display_name": "Python 3",
   "language": "python",
   "name": "python3"
  },
  "language_info": {
   "codemirror_mode": {
    "name": "ipython",
    "version": 3
   },
   "file_extension": ".py",
   "mimetype": "text/x-python",
   "name": "python",
   "nbconvert_exporter": "python",
   "pygments_lexer": "ipython3",
   "version": "3.6.13"
  }
 },
 "nbformat": 4,
 "nbformat_minor": 4
}